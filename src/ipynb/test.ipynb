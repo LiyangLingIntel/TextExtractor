{
 "cells": [
  {
   "cell_type": "code",
   "execution_count": 1,
   "metadata": {
    "ExecuteTime": {
     "end_time": "2019-02-22T09:11:02.435759Z",
     "start_time": "2019-02-22T09:11:02.433240Z"
    }
   },
   "outputs": [],
   "source": [
    "import re\n",
    "import os"
   ]
  },
  {
   "cell_type": "code",
   "execution_count": 2,
   "metadata": {
    "ExecuteTime": {
     "end_time": "2019-02-22T09:11:03.328074Z",
     "start_time": "2019-02-22T09:11:03.324200Z"
    }
   },
   "outputs": [
    {
     "name": "stdout",
     "output_type": "stream",
     "text": [
      "/Users/leonling/workspace/Projects/Python/RA_NLP/src/ipynb\n"
     ]
    }
   ],
   "source": [
    "print(os.getcwd())"
   ]
  },
  {
   "cell_type": "code",
   "execution_count": 5,
   "metadata": {
    "ExecuteTime": {
     "end_time": "2019-02-16T13:49:21.552153Z",
     "start_time": "2019-02-16T13:49:21.548883Z"
    }
   },
   "outputs": [],
   "source": [
    "root = '../py/'\n",
    "\n",
    "cove_folder = '../../output/covenant/'\n",
    "info_folder = '../../output/information/'\n",
    "toc_folder = '../../output/temp_files/toc/'\n",
    "date_folder = '../../output/duedate/'\n",
    "faildate_folder = '../../output/fail_date/'\n",
    "\n",
    "text_folder = '../../text/publiccontracts/'"
   ]
  },
  {
   "cell_type": "code",
   "execution_count": 33,
   "metadata": {
    "ExecuteTime": {
     "end_time": "2019-02-15T15:31:32.592497Z",
     "start_time": "2019-02-15T15:31:32.579909Z"
    }
   },
   "outputs": [],
   "source": [
    "dates = [file for file in os.listdir(faildate_folder) if file.endswith('.txt')]"
   ]
  },
  {
   "cell_type": "code",
   "execution_count": 34,
   "metadata": {
    "ExecuteTime": {
     "end_time": "2019-02-15T15:31:33.847665Z",
     "start_time": "2019-02-15T15:31:32.869429Z"
    }
   },
   "outputs": [
    {
     "name": "stdout",
     "output_type": "stream",
     "text": [
      "real covenant among fail files:  1107\n",
      "total fail files:  1237\n"
     ]
    }
   ],
   "source": [
    "real_cove_count = 0\n",
    "for name in dates:\n",
    "    with open(os.path.join(faildate_folder, name), 'r') as f:\n",
    "        if len(f.readlines()) > 100:\n",
    "            real_cove_count += 1\n",
    "        \n",
    "print('real covenant among fail files: ', real_cove_count)\n",
    "print('total fail files: ', len(dates))"
   ]
  },
  {
   "cell_type": "code",
   "execution_count": 7,
   "metadata": {
    "ExecuteTime": {
     "end_time": "2019-02-16T13:52:31.042498Z",
     "start_time": "2019-02-16T13:52:27.586326Z"
    }
   },
   "outputs": [
    {
     "name": "stdout",
     "output_type": "stream",
     "text": [
      "real covenant among cove files:  2743\n",
      "total cove files:  2875\n"
     ]
    }
   ],
   "source": [
    "dates = [file for file in os.listdir(cove_folder) if file.endswith('.txt')]\n",
    "\n",
    "real_cove_count = 0\n",
    "for name in dates:\n",
    "    with open(os.path.join(cove_folder, name), 'r') as f:\n",
    "        if len(f.readlines()) > 100:\n",
    "            real_cove_count += 1\n",
    "        \n",
    "print('real covenant among cove files: ', real_cove_count)\n",
    "print('total cove files: ', len(dates))"
   ]
  },
  {
   "cell_type": "code",
   "execution_count": 31,
   "metadata": {
    "ExecuteTime": {
     "end_time": "2019-02-15T15:30:28.134562Z",
     "start_time": "2019-02-15T15:30:27.820847Z"
    }
   },
   "outputs": [
    {
     "name": "stdout",
     "output_type": "stream",
     "text": [
      "1: 649\n",
      "2: 523\n",
      "3: 191\n",
      "4: 145\n",
      "5: 39\n",
      "6: 41\n",
      "7: 16\n",
      "8: 17\n",
      "9: 5\n",
      "10: 4\n",
      "11: 2\n",
      "12: 3\n",
      "14: 1\n",
      "15: 1\n",
      "17: 1\n",
      "21: 1\n"
     ]
    }
   ],
   "source": [
    "dates = [file for file in os.listdir(date_folder) if file.endswith('.txt')]\n",
    "lines_counter = {}\n",
    "for name in dates:\n",
    "    with open(os.path.join(date_folder, name), 'r') as f:\n",
    "        linum = len(f.readlines()) // 3\n",
    "        if linum not in lines_counter:\n",
    "            lines_counter[linum] = 1\n",
    "        else:\n",
    "            lines_counter[linum] += 1\n",
    "        \n",
    "lines_counter = [(key, lines_counter[key]) for key in sorted(lines_counter.keys())]\n",
    "\n",
    "for l in lines_counter:\n",
    "    print(f'{l[0]}: {l[1]}')"
   ]
  },
  {
   "cell_type": "code",
   "execution_count": 38,
   "metadata": {
    "ExecuteTime": {
     "end_time": "2019-02-15T15:35:07.250927Z",
     "start_time": "2019-02-15T15:35:07.240631Z"
    }
   },
   "outputs": [
    {
     "data": {
      "text/plain": [
       "3720"
      ]
     },
     "execution_count": 38,
     "metadata": {},
     "output_type": "execute_result"
    }
   ],
   "source": [
    "len([file for file in os.listdir(text_folder) if file.endswith('.txt')])"
   ]
  },
  {
   "cell_type": "code",
   "execution_count": 6,
   "metadata": {
    "ExecuteTime": {
     "end_time": "2019-02-16T13:49:23.758078Z",
     "start_time": "2019-02-16T13:49:23.742824Z"
    }
   },
   "outputs": [
    {
     "data": {
      "text/plain": [
       "2875"
      ]
     },
     "execution_count": 6,
     "metadata": {},
     "output_type": "execute_result"
    }
   ],
   "source": [
    "len([file for file in os.listdir(cove_folder) if file.endswith('.txt')])"
   ]
  },
  {
   "cell_type": "markdown",
   "metadata": {},
   "source": [
    "### New data"
   ]
  },
  {
   "cell_type": "code",
   "execution_count": 10,
   "metadata": {
    "ExecuteTime": {
     "end_time": "2019-03-04T14:46:44.311307Z",
     "start_time": "2019-03-04T14:46:44.308769Z"
    }
   },
   "outputs": [],
   "source": [
    "import os"
   ]
  },
  {
   "cell_type": "code",
   "execution_count": 13,
   "metadata": {
    "ExecuteTime": {
     "end_time": "2019-03-04T14:47:06.985632Z",
     "start_time": "2019-03-04T14:47:06.983347Z"
    }
   },
   "outputs": [],
   "source": [
    "real_data_folder = '/Users/leonling/workspace/Projects/Python/RA_NLP/text/truncate_result/'\n",
    "# os.chdir('/Users/leonling/workspace/Projects/Python/RA_NLP/')"
   ]
  },
  {
   "cell_type": "code",
   "execution_count": 14,
   "metadata": {
    "ExecuteTime": {
     "end_time": "2019-03-04T14:47:07.653766Z",
     "start_time": "2019-03-04T14:47:07.530941Z"
    }
   },
   "outputs": [
    {
     "name": "stdout",
     "output_type": "stream",
     "text": [
      "1996 1186\n",
      "1997 1791\n",
      "1998 1840\n",
      "1999 1603\n",
      "2000 1436\n",
      "2001 1250\n",
      "2002 1166\n",
      "2003 905\n",
      "2004 823\n",
      "2005 540\n",
      "2006 339\n"
     ]
    }
   ],
   "source": [
    "for year in range(1996, 2007):\n",
    "    \n",
    "    test_folder = os.path.join(real_data_folder, str(year), 'result')\n",
    "    print(year, len([file for file in os.listdir(test_folder) if file.endswith('.txt')]))"
   ]
  },
  {
   "cell_type": "code",
   "execution_count": null,
   "metadata": {},
   "outputs": [],
   "source": []
  }
 ],
 "metadata": {
  "kernelspec": {
   "display_name": "py36",
   "language": "python",
   "name": "py36"
  },
  "language_info": {
   "codemirror_mode": {
    "name": "ipython",
    "version": 3
   },
   "file_extension": ".py",
   "mimetype": "text/x-python",
   "name": "python",
   "nbconvert_exporter": "python",
   "pygments_lexer": "ipython3",
   "version": "3.6.3"
  },
  "latex_envs": {
   "LaTeX_envs_menu_present": true,
   "autoclose": false,
   "autocomplete": true,
   "bibliofile": "biblio.bib",
   "cite_by": "apalike",
   "current_citInitial": 1,
   "eqLabelWithNumbers": true,
   "eqNumInitial": 1,
   "hotkeys": {
    "equation": "Ctrl-E",
    "itemize": "Ctrl-I"
   },
   "labels_anchors": false,
   "latex_user_defs": false,
   "report_style_numbering": false,
   "user_envs_cfg": false
  },
  "toc": {
   "base_numbering": 1,
   "nav_menu": {},
   "number_sections": true,
   "sideBar": true,
   "skip_h1_title": false,
   "title_cell": "Table of Contents",
   "title_sidebar": "Contents",
   "toc_cell": false,
   "toc_position": {},
   "toc_section_display": true,
   "toc_window_display": false
  },
  "varInspector": {
   "cols": {
    "lenName": 16,
    "lenType": 16,
    "lenVar": 40
   },
   "kernels_config": {
    "python": {
     "delete_cmd_postfix": "",
     "delete_cmd_prefix": "del ",
     "library": "var_list.py",
     "varRefreshCmd": "print(var_dic_list())"
    },
    "r": {
     "delete_cmd_postfix": ") ",
     "delete_cmd_prefix": "rm(",
     "library": "var_list.r",
     "varRefreshCmd": "cat(var_dic_list()) "
    }
   },
   "types_to_exclude": [
    "module",
    "function",
    "builtin_function_or_method",
    "instance",
    "_Feature"
   ],
   "window_display": false
  }
 },
 "nbformat": 4,
 "nbformat_minor": 2
}
