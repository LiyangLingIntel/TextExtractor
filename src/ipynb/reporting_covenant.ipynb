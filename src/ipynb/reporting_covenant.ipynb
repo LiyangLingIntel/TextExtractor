{
 "cells": [
  {
   "cell_type": "code",
   "execution_count": 1,
   "metadata": {
    "ExecuteTime": {
     "end_time": "2019-02-08T08:29:12.851977Z",
     "start_time": "2019-02-08T08:29:12.846641Z"
    }
   },
   "outputs": [],
   "source": [
    "import os\n",
    "import re\n",
    "\n",
    "from settings import resource_folder, covenant_folder, output_folder"
   ]
  },
  {
   "cell_type": "code",
   "execution_count": null,
   "metadata": {},
   "outputs": [],
   "source": []
  },
  {
   "cell_type": "code",
   "execution_count": 2,
   "metadata": {
    "ExecuteTime": {
     "end_time": "2019-02-08T08:29:13.956217Z",
     "start_time": "2019-02-08T08:29:13.953639Z"
    }
   },
   "outputs": [],
   "source": [
    "example_file = 'final-0000012355-02-000023.txt'\n"
   ]
  },
  {
   "cell_type": "code",
   "execution_count": 4,
   "metadata": {
    "ExecuteTime": {
     "end_time": "2019-02-08T08:34:04.299236Z",
     "start_time": "2019-02-08T08:34:04.293975Z"
    }
   },
   "outputs": [],
   "source": [
    "with open(os.path.join(output_folder, 'temp_files', 'covenant', example_file), 'r') as f:\n",
    "    contents = f.readlines()"
   ]
  },
  {
   "cell_type": "code",
   "execution_count": 16,
   "metadata": {
    "ExecuteTime": {
     "end_time": "2019-02-08T11:17:42.031887Z",
     "start_time": "2019-02-08T11:17:42.026951Z"
    }
   },
   "outputs": [],
   "source": [
    "text_in_para = ['']\n",
    "para_end = re.compile(r'[;:.?!]\\n$')\n",
    "for i in contents:\n",
    "    i = i.strip()\n",
    "    if para_end.search(i) is not None:\n",
    "        text_in_para[-1] += i\n",
    "        text_in_para.append('')\n",
    "    else:\n",
    "        text_in_para[-1] += i.strip('\\n')"
   ]
  },
  {
   "cell_type": "code",
   "execution_count": 12,
   "metadata": {
    "ExecuteTime": {
     "end_time": "2019-02-08T09:00:42.652969Z",
     "start_time": "2019-02-08T09:00:42.645228Z"
    }
   },
   "outputs": [
    {
     "data": {
      "text/plain": [
       "['                                    ARTICLE V\\n',\n",
       " '                           COVENANTS OF THE BORROWERS\\n',\n",
       " '                  SECTION 5.01. Affirmative Covenants.  So long as any Revolving\\n',\n",
       " 'Credit  Advance or any  Discounted  Note shall remain unpaid or any Lender shall\\n',\n",
       " 'have any Commitment hereunder, each Borrower will:\\n',\n",
       " '                  (a) Compliance with Laws, Etc.  Comply,  and cause each of its\\n',\n",
       " '         Subsidiaries to comply,  with all applicable laws,  rules,  regulations\\n',\n",
       " '         and orders, such compliance to include, without limitation,  compliance\\n',\n",
       " '         with ERISA and  Environmental  Laws,  except where, and for so long as,\\n',\n",
       " '         the  failure  to so  comply  (i)  has  been  excused  or  waived  under\\n',\n",
       " '         applicable law or (ii) either  individually or in the aggregate,  could\\n',\n",
       " '         not reasonably be expected to have a Material  Adverse Effect.  Comply,\\n',\n",
       " '         and cause each of its Subsidiaries to comply,  with the terms of all of\\n',\n",
       " '         its contracts, loan agreements,  indentures, mortgages, deeds of trust,\\n',\n",
       " '         leases and other agreements and instruments, the violation or breach of\\n',\n",
       " '         which,  either  individually or in the aggregate,  could  reasonably be\\n',\n",
       " '         expected to have a Material Adverse Effect.\\n',\n",
       " '                  (b) Payment of Taxes,  Etc. Pay and discharge,  and cause each\\n',\n",
       " '         of its Subsidiaries to pay and discharge,  before the same shall become\\n',\n",
       " '         delinquent,  (i) all taxes,  assessments  and  governmental  charges or\\n',\n",
       " '         levies  imposed upon it or upon its property and (ii) all lawful claims\\n',\n",
       " '         that,  if  unpaid,  might by law  become a Lien upon its  property  and\\n',\n",
       " '         assets;  provided,  however,  that  neither any Borrower nor any of its\\n',\n",
       " '         Subsidiaries  shall be  required  to pay or  discharge  (A) any  taxes,\\n',\n",
       " '         assessments,  reassessments,  charges,  levies or claims  that,  either\\n',\n",
       " '         individually  or in the aggregate,  do not exceed  $15,000,000  (or the\\n',\n",
       " '         equivalent  thereof in one or more foreign  currencies)  at any time or\\n',\n",
       " '         (B) any such tax, assessment,  reassessment, charge, levy or claim that\\n',\n",
       " '         is being  contested in good faith and by proper  proceedings  and as to\\n',\n",
       " '         which  appropriate  reserves are being  maintained in  accordance  with\\n',\n",
       " '         generally accepted  accounting  principles in effect from time to time,\\n',\n",
       " '         unless and until,  in any of the foregoing  cases,  any Lien  resulting\\n',\n",
       " '         therefrom attaches to its property and enforcement, collection, levy or\\n',\n",
       " '         foreclosure  proceedings  shall have been commenced and remain unstayed\\n',\n",
       " '         in respect thereof.\\n',\n",
       " '                  (c) Maintenance of Insurance.  Maintain, and cause each of its\\n',\n",
       " '         Subsidiaries to maintain,  (i) insurance with responsible and reputable\\n',\n",
       " '         insurance  companies or  associations in such amounts and covering such\\n',\n",
       " '         risks as is usually carried by companies engaged in similar  businesses\\n',\n",
       " '         of similar size and owning similar properties in the same general areas\\n',\n",
       " '         in which such Borrower or such Subsidiary  operates and (ii) additional\\n',\n",
       " '         insurance to the extent required under applicable law, rule, regulation\\n',\n",
       " '         or  order  unless,  in  either  case,  the  failure  to  maintain  such\\n',\n",
       " '         insurance,   either  individually  or  in  the  aggregate,   could  not\\n',\n",
       " '         reasonably be expected to have a Material Adverse Effect.\\n',\n",
       " '                  (d) Preservation of Existence, Etc. Preserve and maintain, and\\n',\n",
       " '         cause each of its Subsidiaries to preserve and maintain, its existence,\\n',\n",
       " '         rights  (charter  and  statutory),  licenses  and  franchises  (whether\\n',\n",
       " '         arising as a matter of contract or under applicable law or regulation);\\n',\n",
       " '         provided,  however,  that any Borrower or any of its  Subsidiaries  may\\n',\n",
       " '         consummate any transaction  otherwise  permitted under Section 5.02(b);\\n',\n",
       " '         and  provided  further  that  neither  any  Borrower  nor  any  of  its\\n',\n",
       " '         Subsidiaries  shall be required to preserve (i) any  Subsidiary  of the\\n',\n",
       " '         Company that is not a Borrower or (ii) any right,  license or franchise\\n',\n",
       " '         if management of such Borrower  shall  determine in good faith that the\\n',\n",
       " '         preservation  thereof  is no longer  desirable  in the  conduct  of the\\n',\n",
       " '         business  or  the  continued   operations  of  such  Borrower  or  such\\n',\n",
       " '         Subsidiary,  as the case may be,  and  that  the  loss  thereof  is not\\n',\n",
       " '         disadvantageous  in  any  material  respect  to  such  Borrower,   such\\n',\n",
       " '         Subsidiary or the Lenders.\\n',\n",
       " '                  (e) Visitation Rights. At any reasonable time and from time to\\n',\n",
       " '         time, during normal business hours and upon reasonable  notice,  permit\\n',\n",
       " '         the  Administrative  Agent  or any  of the  Lenders  or any  agents  or\\n',\n",
       " '         representatives  thereof to examine  and make  copies of and  abstracts\\n',\n",
       " '         from the  records  and books of  account,  and visit  and  inspect  the\\n',\n",
       " '         properties, of any Borrower or any of its Subsidiaries,  and to discuss\\n',\n",
       " '         the  affairs,  finances  and  accounts  of any  Borrower  or any of its\\n',\n",
       " '         Subsidiaries  with any of their  officers or  directors  and with their\\n',\n",
       " '         independent certified public accountants.\\n',\n",
       " '                  (f) Keeping of Books. Keep, and cause each of its Subsidiaries\\n',\n",
       " '         to keep, proper books of record and account,  in which full and correct\\n',\n",
       " '         entries shall be made of all financial  transactions and the assets and\\n',\n",
       " '         business of such Borrower and each such  Subsidiary in accordance  with\\n',\n",
       " '         generally accepted accounting principles in effect from time to time.\\n',\n",
       " '                  (g) Maintenance of Properties, Etc. Maintain and preserve, and\\n',\n",
       " '         cause each of its  Subsidiaries  to maintain and  preserve,  all of its\\n',\n",
       " '         material  properties  that are used or  useful  in the  conduct  of its\\n',\n",
       " '         business in good working  order and  condition,  ordinary wear and tear\\n',\n",
       " '         excepted.\\n',\n",
       " '                  (h) Use of Proceeds.  Use all of the proceeds of the Revolving\\n',\n",
       " '         Credit Advances and the Discounted  Notes solely for general  corporate\\n',\n",
       " '         purposes of such Borrower and its Subsidiaries not otherwise prohibited\\n',\n",
       " '         under the terms of this Agreement.\\n',\n",
       " '                  (i) Transactions with Affiliates.  Conduct,  and cause each of\\n',\n",
       " '         its Subsidiaries to conduct, all transactions otherwise permitted under\\n',\n",
       " '         this Agreement with any of their  Affiliates on terms that are fair and\\n',\n",
       " '         reasonable  and no less  favorable to such Borrower or such  Subsidiary\\n',\n",
       " \"         than it would obtain in a comparable  arm's-length  transaction  with a\\n\",\n",
       " '         Person not an Affiliate,  except for transactions  between or among the\\n',\n",
       " '         Company and its  Subsidiaries  or between or among  Subsidiaries of the\\n',\n",
       " '         Company not otherwise  prohibited  under this  Agreement  that,  either\\n',\n",
       " '         individually  or in the aggregate,  could not reasonably be expected to\\n',\n",
       " '         have a Material Adverse Effect.\\n',\n",
       " '                  (j)   Reporting   Requirements.   Furnish   to  the   Lenders:\\n',\n",
       " '                           (i) as soon as  available  and in any event within 50\\n',\n",
       " '                  days after the end of each of the first three fiscal  quarters\\n',\n",
       " '                  of each fiscal year of the Company, commencing with the fiscal\\n',\n",
       " '                  quarter of the Company  ending March 31, 2002,  the  Financial\\n',\n",
       " '                  Statements of the Company and its  Subsidiaries  as of the end\\n',\n",
       " '                  of such fiscal quarter,  duly certified by the chief financial\\n',\n",
       " '                  officer or the  treasurer  of the  Company as (A) having  been\\n',\n",
       " '                  prepared in  accordance  with  generally  accepted  accounting\\n',\n",
       " '                  principles  in effect at the time  such  Financial  Statements\\n',\n",
       " '                  were  prepared  and  (B)  fairly  presenting  in all  material\\n',\n",
       " '                  respects,  subject to year-end  adjustments,  the consolidated\\n',\n",
       " '                  financial  condition of the Company and its Subsidiaries as at\\n',\n",
       " '                  the  last  day of such  fiscal  quarter  and the  consolidated\\n',\n",
       " '                  results of operations of the Company and its  Subsidiaries for\\n',\n",
       " '                  such period;\\n',\n",
       " '                           (ii) as soon as available  and in any event within 95\\n',\n",
       " '                  days  after  the  end of  each  fiscal  year  of the  Company,\\n',\n",
       " '                  commencing with the fiscal year of the Company ending December\\n',\n",
       " '                  31, 2002, a copy of the annual report,  prepared in the manner\\n',\n",
       " '                  required under Form 10-K, for such fiscal year for the Company\\n',\n",
       " '                  and its  Subsidiaries  containing the Financial  Statements of\\n',\n",
       " '                  the Company and its  Subsidiaries as of the end of such fiscal\\n',\n",
       " '                  year, in each case  accompanied by an opinion of Ernst & Young\\n',\n",
       " '                  LLP or  other  independent  certified  public  accountants  of\\n',\n",
       " '                  nationally  recognized  standing  in  the  United  States  and\\n',\n",
       " '                  reasonably  acceptable  to the  Administrative  Agent  that is\\n',\n",
       " '                  unqualified  as to going  concern  and  scope of audit  and is\\n',\n",
       " '                  otherwise in scope and  substance  acceptable  to the Required\\n',\n",
       " '                  Lenders,  together with a certificate of such  accounting firm\\n',\n",
       " '                  addressed to the Administrative  Agent and the Lenders stating\\n',\n",
       " '                  that in the course of the regular audit of the business of the\\n',\n",
       " '                  Company and its  Subsidiaries,  which audit was  conducted  by\\n',\n",
       " '                  such  accounting  firm in accordance  with generally  accepted\\n',\n",
       " '                  auditing standards,  nothing has come to the attention of such\\n',\n",
       " '                  accountants  that causes them to believe  that the Company has\\n',\n",
       " '                  failed to comply with the covenants set forth in Section 5.03;\\n',\n",
       " '                           (iii)  as soon  as  available  after  the end of each\\n',\n",
       " '                  fiscal year of each Foreign Borrower,  a balance sheet of such\\n',\n",
       " '                  Foreign  Borrower  as of the end of such  fiscal  year and the\\n',\n",
       " '                  related  statement of income of such Foreign Borrower for such\\n',\n",
       " '                  fiscal year and such other  statements for such fiscal year as\\n',\n",
       " '                  are  required to be included  in the  statutory  report of the\\n',\n",
       " '                  jurisdiction in which such Foreign Borrower  resides,  in each\\n',\n",
       " '                  case prepared in accordance  with  historical  convention  and\\n',\n",
       " '                  with generally accepted  accounting  principles  prevailing in\\n',\n",
       " '                  such  jurisdiction  at the time such financial  statements are\\n',\n",
       " '                  delivered;\\n',\n",
       " '                           (iv)   simultaneously   with  each  delivery  of  the\\n',\n",
       " '                  Financial  Statements  referred  to in clauses (i) and (ii) of\\n',\n",
       " '                  this Section 5.01(j), (A) a certificate of the chief financial\\n',\n",
       " '                  officer or the  treasurer  of the Company (1) stating  that no\\n',\n",
       " '                  Default has  occurred and is  continuing  or, if a Default has\\n',\n",
       " '                  occurred  and is  continuing,  a  statement  as to the  nature\\n',\n",
       " '                  thereof  and the  action  that the  Company  has taken  and/or\\n',\n",
       " '                  proposes to take with respect thereto and (2) setting forth in\\n',\n",
       " '                  reasonable  detail the  calculations  necessary to demonstrate\\n',\n",
       " '                  compliance  with each of the  covenants  set forth in  Section\\n',\n",
       " '                  5.03  and (B) in the  event  of any  change  in the  generally\\n',\n",
       " '                  accepted accounting principles used in the preparation of such\\n',\n",
       " '                  Financial Statements from those used in the preparation of the\\n',\n",
       " '                  2000   Audited   Financial   Statements,    a   statement   of\\n',\n",
       " '                  reconciliation,  if  and  to  the  extent  necessary  for  the\\n',\n",
       " '                  determination  of  compliance  with each of the  covenants set\\n',\n",
       " '                  forth in Section 5.03, conforming such Financial Statements to\\n',\n",
       " '                  generally accepted accounting principles consistent with those\\n',\n",
       " '                  applied by the Company in the  preparation of the 2000 Audited\\n',\n",
       " '                  Financial Statements;\\n',\n",
       " '                           (v) as soon as possible  and in any event within five\\n',\n",
       " '                  days after any Responsible Officer knows or has reason to know\\n',\n",
       " '                  of the  occurrence  of  each  Default,  or the  occurrence  or\\n',\n",
       " '                  nonoccurrence of any event,  development or circumstance that,\\n',\n",
       " '                  either  individually  or in the  aggregate,  has had or  could\\n',\n",
       " '                  reasonably be expected to have a Material  Adverse  Effect,  a\\n',\n",
       " '                  statement  of  such  Responsible  Officer  setting  forth  the\\n',\n",
       " '                  details  of  such  Default  or  such  event,   development  or\\n',\n",
       " '                  circumstance,  as the case may be,  and the  action  that such\\n',\n",
       " '                  Borrower  has  taken  and/or  proposes  to take  with  respect\\n',\n",
       " '                  thereto;\\n',\n",
       " '                           (vi)  promptly  upon receipt  thereof,  copies of any\\n',\n",
       " '                  report on material weaknesses in the financial controls of the\\n',\n",
       " '                  Company and its  Subsidiaries,  taken as a whole,  prepared by\\n',\n",
       " '                  any independent certified public accountants of the Company in\\n',\n",
       " '                  connection with their annual audit;\\n',\n",
       " '                           (vii) promptly  after the sending or filing  thereof,\\n',\n",
       " '                  copies  of  all  reports   that  the  Company   sends  to  its\\n',\n",
       " '                  securityholders,  and copies of all reports  and  registration\\n',\n",
       " '                  statements (other than  registration  statements filed on Form\\n',\n",
       " '                  S-8 or otherwise relating to securities being offered and sold\\n',\n",
       " '                  under, or interests in, employee benefit plans),  if any, that\\n',\n",
       " '                  any Borrower or any  Subsidiary  files with the Securities and\\n',\n",
       " '                  Exchange Commission or any national securities exchange;\\n',\n",
       " '                           (viii)  promptly  after  the  commencement   thereof,\\n',\n",
       " '                  notice of all actions, suits, investigations,  litigations and\\n',\n",
       " '                  proceedings  before  any  court,   Governmental  Authority  or\\n',\n",
       " '                  arbitrator  against or in any other way affecting any Borrower\\n',\n",
       " '                  or  any  of  its  Subsidiaries  or  any  of  their  respective\\n',\n",
       " '                  properties  or  businesses  of the type  described  in Section\\n',\n",
       " '                  4.01(g);\\n',\n",
       " '                           (ix)  promptly and in any event within five  Business\\n',\n",
       " '                  Days after becoming aware thereof, notice of any change in the\\n',\n",
       " '                  rating assigned by any nationally  recognized rating agency to\\n',\n",
       " '                  any   securities   issued  by  any  Borrower  or  any  of  its\\n',\n",
       " '                  Subsidiaries  and the effective date of such change,  together\\n',\n",
       " '                  with a copy of such notice if available at such time;\\n',\n",
       " '                           (x)  promptly   after  the  assertion  or  occurrence\\n',\n",
       " '                  thereof,  notice  of  any  Environmental  Action  against  any\\n',\n",
       " '                  Borrower or any of its  Subsidiaries,  or of any noncompliance\\n',\n",
       " '                  by  any  Borrower  or  any  of  its   Subsidiaries   with  any\\n',\n",
       " '                  Environmental Law or any Environmental Permit, that (A) either\\n',\n",
       " '                  individually or in the aggregate, could reasonably be expected\\n',\n",
       " '                  to have a  Material  Adverse  Effect  or (B)  could  cause any\\n',\n",
       " '                  property of such Borrower or such  Subsidiary to be subject to\\n',\n",
       " '                  any   restrictions   on   ownership,    occupancy,    use   or\\n',\n",
       " '                  transferability  under  any  Environmental  Law  that,  either\\n',\n",
       " '                  individually or in the aggregate, could reasonably be expected\\n',\n",
       " '                  to have a Material Adverse Effect; and\\n',\n",
       " '                           (xi)   such   other   information    respecting   the\\n',\n",
       " '                  businesses, assets, liabilities,  financial condition, results\\n',\n",
       " '                  of operations or business  prospects of any Borrower or any of\\n',\n",
       " '                  its  Subsidiaries  as any Lender,  through the  Administrative\\n',\n",
       " '                  Agent, may from time to time reasonably request.\\n',\n",
       " '                  SECTION 5.02. Negative Covenants. So long as any Revolving\\n',\n",
       " 'Credit Advance or any Discounted Note shall remain unpaid or any Lender shall\\n',\n",
       " 'have any Commitment hereunder, each of the Borrowers will not:\\n',\n",
       " '                  (a) Liens,  Etc.  Create or suffer to exist,  or permit any of\\n',\n",
       " '         its  Subsidiaries  to create  or  suffer to exist,  any Lien on or with\\n',\n",
       " '         respect  to any of its  properties  and  assets,  whether  now owned or\\n',\n",
       " '         hereafter  acquired,  or  assign  as  security,  or  permit  any of its\\n',\n",
       " '         Subsidiaries  to  assign  as  security,  any  right to  receive  income\\n',\n",
       " '         therefrom, other than:\\n',\n",
       " '                           (i) Permitted Liens;\\n',\n",
       " '                           (ii) Liens  existing or  contemplated  on the date of\\n',\n",
       " '                  this Agreement and described on Schedule 5.02(a) hereto;\\n',\n",
       " '                           (iii)  purchase  money  Liens  upon or in one or more\\n',\n",
       " '                  tangible assets acquired or held by any Borrower or any of its\\n',\n",
       " '                  Subsidiaries  in the ordinary course of business to secure the\\n',\n",
       " '                  purchase   price  of  such   tangible   assets  or  to  secure\\n',\n",
       " '                  Indebtedness  incurred solely for the purpose of financing the\\n',\n",
       " '                  acquisition,  construction  or  improvement  of such  tangible\\n',\n",
       " '                  assets so long as such  Liens are  incurred  within 90 days of\\n',\n",
       " '                  the date of  acquisition  of such  tangible  assets,  or Liens\\n',\n",
       " '                  existing  on  any  such  tangible  asset  at the  time  of its\\n',\n",
       " '                  acquisition   (other   than  any   such   Liens   created   in\\n',\n",
       " '                  contemplation  of such  acquisition  that were not incurred to\\n',\n",
       " '                  finance the  acquisition of such tangible  assets);  provided,\\n',\n",
       " '                  however,  that no such  Lien  shall  extend  to or  cover  any\\n',\n",
       " '                  property or assets of any  character  other than the  tangible\\n',\n",
       " '                  assets being acquired,  constructed or improved;  and provided\\n',\n",
       " '                  further  that any  Indebtedness  secured by such  Liens  shall\\n',\n",
       " '                  otherwise be permitted under the terms of this Agreement;\\n',\n",
       " '                           (iv)  Liens  on  property  and  assets  of  a  Person\\n',\n",
       " '                  existing   at  the  time  such   Person  is  merged   into  or\\n',\n",
       " '                  consolidated  with any Borrower or any of its  Subsidiaries or\\n',\n",
       " '                  becomes a Subsidiary of any  Borrower;  provided that any such\\n',\n",
       " '                  Liens  were  not  created  in  contemplation  of such  merger,\\n',\n",
       " '                  consolidation or acquisition and do not extend to or cover (A)\\n',\n",
       " '                  any  property or assets  other than the property and assets of\\n',\n",
       " '                  the  Person  being  merged  into  or  consolidated  with  such\\n',\n",
       " '                  Borrower or such Subsidiary or being acquired by such Borrower\\n',\n",
       " '                  or such Subsidiary, as the case may be, or (B) any obligations\\n',\n",
       " '                  of any Person other than those  obligations  that were secured\\n',\n",
       " '                  by such  property  and  assets  at the  time  of such  merger,\\n',\n",
       " '                  consolidation  or acquisition;  and provided  further that any\\n',\n",
       " '                  Indebtedness   secured  by  such  Liens  shall   otherwise  be\\n',\n",
       " '                  permitted under the terms of this Agreement;\\n',\n",
       " '                           (v) Liens on any property or assets of any Subsidiary\\n',\n",
       " '                  of the Company  securing  Indebtedness  owed to the Company or\\n',\n",
       " '                  any of its other Subsidiaries;\\n',\n",
       " '                           (vi) Liens securing  reimbursement  obligations under\\n',\n",
       " '                  commercial  letters of credit  incurred in the ordinary course\\n',\n",
       " '                  of business; provided that any such Liens shall cover only the\\n',\n",
       " '                  goods,  or  documents  of  title  evidencing  goods,  that are\\n',\n",
       " '                  purchased in the  transaction  for which such letter of credit\\n',\n",
       " '                  was issued and the products and proceeds thereof;\\n',\n",
       " '                           (vii) Liens  arising out of  judgments or awards that\\n',\n",
       " '                  do not constitute an Event of Default under Section 6.01(f) or\\n',\n",
       " '                  6.01(g)  and in  respect of which any  Borrower  or any of its\\n',\n",
       " '                  Subsidiaries subject thereto shall be prosecuting an appeal or\\n',\n",
       " '                  proceedings for review in good faith and,  pending such appeal\\n',\n",
       " '                  or  proceedings,  shall  have  secured  a  subsisting  stay of\\n',\n",
       " '                  execution  within 30 days of such  judgment or award and shall\\n',\n",
       " '                  be  maintaining   appropriate  reserves,  in  accordance  with\\n',\n",
       " '                  generally accepted  accounting  principles in effect from time\\n',\n",
       " '                  to time, with respect to any such judgment or award;\\n',\n",
       " '                           (viii)  Liens on cash,  certificates  of  deposit  or\\n',\n",
       " '                  other similar bank obligations  securing  Indebtedness  (which\\n',\n",
       " '                  Indebtedness  may be in a different  currency  from such cash,\\n',\n",
       " '                  certificates  of  deposit  or other  bank  obligations)  in an\\n',\n",
       " '                  amount  substantially  equal in value  (determined at the time\\n',\n",
       " '                  such Lien is created) to such cash, certificates of deposit or\\n',\n",
       " '                  other bank obligations, as the case may be;\\n',\n",
       " '                           (ix)   Environmental   Liens  securing   damages  and\\n',\n",
       " '                  liabilities  not to exceed an aggregate  amount of $40,000,000\\n',\n",
       " '                  (or the equivalent thereof in one or more foreign  currencies)\\n',\n",
       " '                  for the Company and its Subsidiaries at any time;\\n',\n",
       " '                           (x) Liens not otherwise  permitted under this Section\\n',\n",
       " '                  5.02(a)  securing  obligations  in an aggregate  amount not to\\n',\n",
       " '                  exceed  $150,000,000 (or the equivalent thereof in one or more\\n',\n",
       " '                  foreign  currencies)  for the Company and its  Subsidiaries at\\n',\n",
       " '                  any time; and\\n',\n",
       " '                           (xi)   the   extension,   renewal,   replacement   or\\n',\n",
       " '                  refinancing  of any  Lien  otherwise  permitted  under  any of\\n',\n",
       " '                  clauses (ii)  through (iv) of this Section  5.02(a) upon or in\\n',\n",
       " '                  the same  property  and assets  theretofore  subject  thereto;\\n',\n",
       " '                  provided  that  no such  extension,  renewal,  replacement  or\\n',\n",
       " '                  refinancing   shall  extend  to  or  cover  any  property  not\\n',\n",
       " '                  theretofore  subject  to the  Lien  being  extended,  renewed,\\n',\n",
       " '                  replaced or  refinanced;  and  provided  further  that (A) any\\n',\n",
       " '                  obligation  secured by such Liens shall otherwise be permitted\\n',\n",
       " '                  under the  terms of this  Agreement  and (B) both  immediately\\n',\n",
       " '                  before and  immediately  after giving  effect to such Lien, no\\n',\n",
       " '                  Default shall have occurred and be continuing.\\n',\n",
       " '                  (b)  Mergers,  Etc.  Merge or  consolidate  with or  into,  or\\n',\n",
       " '         convey,  transfer,  lease  or  otherwise  dispose  of  (whether  in one\\n',\n",
       " '         transaction or in a series of transactions) all or substantially all of\\n',\n",
       " '         its property and assets  (whether now owned or hereafter  acquired) to,\\n',\n",
       " '         any Person, or permit any of its Subsidiaries to do so, except that:\\n',\n",
       " '                           (i)  any  Subsidiary  of the  Company  that  is not a\\n',\n",
       " '                  Borrower  may  merge  into or  consolidate  with or  into,  or\\n',\n",
       " '                  convey,  transfer,  lease  or  otherwise  dispose  of  all  or\\n',\n",
       " '                  substantially  all of its  property  and  assets to, any other\\n',\n",
       " '                  Person so long as, if such Person is a  Borrower,  such Person\\n',\n",
       " '                  is the surviving entity; and\\n',\n",
       " '                           (ii) any  Borrower  may merge  with any other  Person\\n',\n",
       " '                  (including,  without limitation,  any other Borrower or any of\\n',\n",
       " '                  its  Subsidiaries) so long as (A) if the Company is a party to\\n',\n",
       " '                  such merger or  consolidation,  the  Company is the  surviving\\n',\n",
       " '                  entity or (B) if any other  Borrower is a party to such merger\\n',\n",
       " '                  or  consolidation,  either (1) the  surviving  entity shall be\\n',\n",
       " '                  such  Borrower  or (2) the  surviving  entity  (w)  shall be a\\n',\n",
       " '                  Substantially  Owned  Subsidiary  of the  Company,  (x)  shall\\n',\n",
       " '                  succeed,  by an  agreement  or operation of law, to all of the\\n',\n",
       " '                  businesses  and  operations of such Borrower and shall assume,\\n',\n",
       " '                  in an assumption agreement in form and substance  satisfactory\\n',\n",
       " '                  to the Administrative Agent, all of the rights and obligations\\n',\n",
       " '                  of such Borrower under this Agreement and the Notes, (y) shall\\n',\n",
       " '                  deliver to the  Administrative  Agent all of the certificates,\\n',\n",
       " '                  opinions and other documents  described in clauses (b) through\\n',\n",
       " '                  (h) of Section 3.02 with respect to such surviving  entity, in\\n',\n",
       " '                  each  case  in  form  and   substance   satisfactory   to  the\\n',\n",
       " '                  Administrative  Agent, and such other documents,  opinions and\\n',\n",
       " '                  other  information as any Lender,  through the  Administrative\\n',\n",
       " '                  Agent, may reasonably  request and (z) shall cause the Company\\n',\n",
       " '                  to deliver to the Administrative Agent written confirmation of\\n',\n",
       " '                  its  obligations  under  Section  7.01  with  respect  to such\\n',\n",
       " '                  surviving entity;\\n',\n",
       " '         provided,  in each of the foregoing  cases,  that no Default shall have\\n',\n",
       " '         occurred and be continuing  at the time of such merger,  consolidation,\\n',\n",
       " '         conveyance,  transfer, lease or disposition, or shall occur as a result\\n',\n",
       " '         thereof.  Notwithstanding  any  of the  foregoing  provisions  of  this\\n',\n",
       " '         Section 5.02(b), neither any Borrower nor any of its Subsidiaries shall\\n',\n",
       " '         sell, convey,  transfer,  lease or otherwise dispose of (whether in one\\n',\n",
       " '         transaction  or in a series of  transactions  and  whether  through the\\n',\n",
       " '         disposition of shares of capital stock or other property or assets) all\\n',\n",
       " '         or  substantially  all of the power  tool  business  engaged  in by the\\n',\n",
       " '         Company and its Subsidiaries on the date of this Agreement.\\n',\n",
       " '                  (c) Change in Nature of Business. Engage in any business other\\n',\n",
       " '         than the businesses  engaged in by the Company and its  Subsidiaries on\\n',\n",
       " '         the date of this Agreement and other businesses and activities that are\\n',\n",
       " '         substantially similar, related or incidental thereto.\\n',\n",
       " '                  (d) Fiscal Year.  Make or permit any change in the fiscal year\\n',\n",
       " '         of the Company.\\n',\n",
       " '                  (e)  Substance  Storage  and  Disposal.  Permit any  Hazardous\\n',\n",
       " '         Materials  to be  generated,  used,  treated,  handled or stored at, or\\n',\n",
       " '         transported  to or from, any property owned or operated by any Borrower\\n',\n",
       " '         or any of its  Subsidiaries  in any  manner  that  could  result in the\\n',\n",
       " '         incurrence  by any  Borrower  or any of its  Subsidiaries  of  remedial\\n',\n",
       " '         obligations or  liabilities  under any  applicable  Environmental  Law,\\n',\n",
       " '         except (a) as set forth on Schedule 4.01 hereto and (b) for  substances\\n',\n",
       " '         (i) to be used in the  business  of such  Borrower  or such  Subsidiary\\n',\n",
       " '         pending and during such use and (ii) that are  generated or used in the\\n',\n",
       " '         business of such Borrower or such Subsidiary pending their disposal.\\n',\n",
       " '                  SECTION 5.03.  Financial  Covenants.  So long as any Revolving\\n',\n",
       " 'Credit  Advance or any  Discounted  Note shall remain unpaid or any Lender shall\\n',\n",
       " 'have any Commitment hereunder, the Company will:\\n',\n",
       " '                  (a) Leverage  Ratio.  Maintain a Leverage Ratio as of the last\\n',\n",
       " '         day of each of its fiscal quarters of not greater than 3.5 to 1.\\n',\n",
       " '                  (b) Cash Flow  Coverage  Ratio.  Maintain a Cash Flow Coverage\\n',\n",
       " '         Ratio  as of the last day of each of its  fiscal  quarters  of not less\\n',\n",
       " '         than 3.25 to 1.\\n',\n",
       " '                                   \\n']"
      ]
     },
     "execution_count": 12,
     "metadata": {},
     "output_type": "execute_result"
    }
   ],
   "source": [
    "contents"
   ]
  },
  {
   "cell_type": "code",
   "execution_count": 14,
   "metadata": {
    "ExecuteTime": {
     "end_time": "2019-02-08T09:03:31.213466Z",
     "start_time": "2019-02-08T09:03:31.209535Z"
    }
   },
   "outputs": [
    {
     "data": {
      "text/plain": [
       "'.\\n'"
      ]
     },
     "execution_count": 14,
     "metadata": {},
     "output_type": "execute_result"
    }
   ],
   "source": [
    "s = '         in respect thereof.\\n'\n",
    "para_end.search(s).group()"
   ]
  },
  {
   "cell_type": "code",
   "execution_count": 17,
   "metadata": {
    "ExecuteTime": {
     "end_time": "2019-02-08T11:17:44.489898Z",
     "start_time": "2019-02-08T11:17:44.485553Z"
    }
   },
   "outputs": [
    {
     "data": {
      "text/plain": [
       "[\"ARTICLE VCOVENANTS OF THE BORROWERSSECTION 5.01. Affirmative Covenants.  So long as any RevolvingCredit  Advance or any  Discounted  Note shall remain unpaid or any Lender shallhave any Commitment hereunder, each Borrower will:(a) Compliance with Laws, Etc.  Comply,  and cause each of itsSubsidiaries to comply,  with all applicable laws,  rules,  regulationsand orders, such compliance to include, without limitation,  compliancewith ERISA and  Environmental  Laws,  except where, and for so long as,the  failure  to so  comply  (i)  has  been  excused  or  waived  underapplicable law or (ii) either  individually or in the aggregate,  couldnot reasonably be expected to have a Material  Adverse Effect.  Comply,and cause each of its Subsidiaries to comply,  with the terms of all ofits contracts, loan agreements,  indentures, mortgages, deeds of trust,leases and other agreements and instruments, the violation or breach ofwhich,  either  individually or in the aggregate,  could  reasonably beexpected to have a Material Adverse Effect.(b) Payment of Taxes,  Etc. Pay and discharge,  and cause eachof its Subsidiaries to pay and discharge,  before the same shall becomedelinquent,  (i) all taxes,  assessments  and  governmental  charges orlevies  imposed upon it or upon its property and (ii) all lawful claimsthat,  if  unpaid,  might by law  become a Lien upon its  property  andassets;  provided,  however,  that  neither any Borrower nor any of itsSubsidiaries  shall be  required  to pay or  discharge  (A) any  taxes,assessments,  reassessments,  charges,  levies or claims  that,  eitherindividually  or in the aggregate,  do not exceed  $15,000,000  (or theequivalent  thereof in one or more foreign  currencies)  at any time or(B) any such tax, assessment,  reassessment, charge, levy or claim thatis being  contested in good faith and by proper  proceedings  and as towhich  appropriate  reserves are being  maintained in  accordance  withgenerally accepted  accounting  principles in effect from time to time,unless and until,  in any of the foregoing  cases,  any Lien  resultingtherefrom attaches to its property and enforcement, collection, levy orforeclosure  proceedings  shall have been commenced and remain unstayedin respect thereof.(c) Maintenance of Insurance.  Maintain, and cause each of itsSubsidiaries to maintain,  (i) insurance with responsible and reputableinsurance  companies or  associations in such amounts and covering suchrisks as is usually carried by companies engaged in similar  businessesof similar size and owning similar properties in the same general areasin which such Borrower or such Subsidiary  operates and (ii) additionalinsurance to the extent required under applicable law, rule, regulationor  order  unless,  in  either  case,  the  failure  to  maintain  suchinsurance,   either  individually  or  in  the  aggregate,   could  notreasonably be expected to have a Material Adverse Effect.(d) Preservation of Existence, Etc. Preserve and maintain, andcause each of its Subsidiaries to preserve and maintain, its existence,rights  (charter  and  statutory),  licenses  and  franchises  (whetherarising as a matter of contract or under applicable law or regulation);provided,  however,  that any Borrower or any of its  Subsidiaries  mayconsummate any transaction  otherwise  permitted under Section 5.02(b);and  provided  further  that  neither  any  Borrower  nor  any  of  itsSubsidiaries  shall be required to preserve (i) any  Subsidiary  of theCompany that is not a Borrower or (ii) any right,  license or franchiseif management of such Borrower  shall  determine in good faith that thepreservation  thereof  is no longer  desirable  in the  conduct  of thebusiness  or  the  continued   operations  of  such  Borrower  or  suchSubsidiary,  as the case may be,  and  that  the  loss  thereof  is notdisadvantageous  in  any  material  respect  to  such  Borrower,   suchSubsidiary or the Lenders.(e) Visitation Rights. At any reasonable time and from time totime, during normal business hours and upon reasonable  notice,  permitthe  Administrative  Agent  or any  of the  Lenders  or any  agents  orrepresentatives  thereof to examine  and make  copies of and  abstractsfrom the  records  and books of  account,  and visit  and  inspect  theproperties, of any Borrower or any of its Subsidiaries,  and to discussthe  affairs,  finances  and  accounts  of any  Borrower  or any of itsSubsidiaries  with any of their  officers or  directors  and with theirindependent certified public accountants.(f) Keeping of Books. Keep, and cause each of its Subsidiariesto keep, proper books of record and account,  in which full and correctentries shall be made of all financial  transactions and the assets andbusiness of such Borrower and each such  Subsidiary in accordance  withgenerally accepted accounting principles in effect from time to time.(g) Maintenance of Properties, Etc. Maintain and preserve, andcause each of its  Subsidiaries  to maintain and  preserve,  all of itsmaterial  properties  that are used or  useful  in the  conduct  of itsbusiness in good working  order and  condition,  ordinary wear and tearexcepted.(h) Use of Proceeds.  Use all of the proceeds of the RevolvingCredit Advances and the Discounted  Notes solely for general  corporatepurposes of such Borrower and its Subsidiaries not otherwise prohibitedunder the terms of this Agreement.(i) Transactions with Affiliates.  Conduct,  and cause each ofits Subsidiaries to conduct, all transactions otherwise permitted underthis Agreement with any of their  Affiliates on terms that are fair andreasonable  and no less  favorable to such Borrower or such  Subsidiarythan it would obtain in a comparable  arm's-length  transaction  with aPerson not an Affiliate,  except for transactions  between or among theCompany and its  Subsidiaries  or between or among  Subsidiaries of theCompany not otherwise  prohibited  under this  Agreement  that,  eitherindividually  or in the aggregate,  could not reasonably be expected tohave a Material Adverse Effect.(j)   Reporting   Requirements.   Furnish   to  the   Lenders:(i) as soon as  available  and in any event within 50days after the end of each of the first three fiscal  quartersof each fiscal year of the Company, commencing with the fiscalquarter of the Company  ending March 31, 2002,  the  FinancialStatements of the Company and its  Subsidiaries  as of the endof such fiscal quarter,  duly certified by the chief financialofficer or the  treasurer  of the  Company as (A) having  beenprepared in  accordance  with  generally  accepted  accountingprinciples  in effect at the time  such  Financial  Statementswere  prepared  and  (B)  fairly  presenting  in all  materialrespects,  subject to year-end  adjustments,  the consolidatedfinancial  condition of the Company and its Subsidiaries as atthe  last  day of such  fiscal  quarter  and the  consolidatedresults of operations of the Company and its  Subsidiaries forsuch period;(ii) as soon as available  and in any event within 95days  after  the  end of  each  fiscal  year  of the  Company,commencing with the fiscal year of the Company ending December31, 2002, a copy of the annual report,  prepared in the mannerrequired under Form 10-K, for such fiscal year for the Companyand its  Subsidiaries  containing the Financial  Statements ofthe Company and its  Subsidiaries as of the end of such fiscalyear, in each case  accompanied by an opinion of Ernst & YoungLLP or  other  independent  certified  public  accountants  ofnationally  recognized  standing  in  the  United  States  andreasonably  acceptable  to the  Administrative  Agent  that isunqualified  as to going  concern  and  scope of audit  and isotherwise in scope and  substance  acceptable  to the RequiredLenders,  together with a certificate of such  accounting firmaddressed to the Administrative  Agent and the Lenders statingthat in the course of the regular audit of the business of theCompany and its  Subsidiaries,  which audit was  conducted  bysuch  accounting  firm in accordance  with generally  acceptedauditing standards,  nothing has come to the attention of suchaccountants  that causes them to believe  that the Company hasfailed to comply with the covenants set forth in Section 5.03;(iii)  as soon  as  available  after  the end of eachfiscal year of each Foreign Borrower,  a balance sheet of suchForeign  Borrower  as of the end of such  fiscal  year and therelated  statement of income of such Foreign Borrower for suchfiscal year and such other  statements for such fiscal year asare  required to be included  in the  statutory  report of thejurisdiction in which such Foreign Borrower  resides,  in eachcase prepared in accordance  with  historical  convention  andwith generally accepted  accounting  principles  prevailing insuch  jurisdiction  at the time such financial  statements aredelivered;(iv)   simultaneously   with  each  delivery  of  theFinancial  Statements  referred  to in clauses (i) and (ii) ofthis Section 5.01(j), (A) a certificate of the chief financialofficer or the  treasurer  of the Company (1) stating  that noDefault has  occurred and is  continuing  or, if a Default hasoccurred  and is  continuing,  a  statement  as to the  naturethereof  and the  action  that the  Company  has taken  and/orproposes to take with respect thereto and (2) setting forth inreasonable  detail the  calculations  necessary to demonstratecompliance  with each of the  covenants  set forth in  Section5.03  and (B) in the  event  of any  change  in the  generallyaccepted accounting principles used in the preparation of suchFinancial Statements from those used in the preparation of the2000   Audited   Financial   Statements,    a   statement   ofreconciliation,  if  and  to  the  extent  necessary  for  thedetermination  of  compliance  with each of the  covenants setforth in Section 5.03, conforming such Financial Statements togenerally accepted accounting principles consistent with thoseapplied by the Company in the  preparation of the 2000 AuditedFinancial Statements;(v) as soon as possible  and in any event within fivedays after any Responsible Officer knows or has reason to knowof the  occurrence  of  each  Default,  or the  occurrence  ornonoccurrence of any event,  development or circumstance that,either  individually  or in the  aggregate,  has had or  couldreasonably be expected to have a Material  Adverse  Effect,  astatement  of  such  Responsible  Officer  setting  forth  thedetails  of  such  Default  or  such  event,   development  orcircumstance,  as the case may be,  and the  action  that suchBorrower  has  taken  and/or  proposes  to take  with  respectthereto;(vi)  promptly  upon receipt  thereof,  copies of anyreport on material weaknesses in the financial controls of theCompany and its  Subsidiaries,  taken as a whole,  prepared byany independent certified public accountants of the Company inconnection with their annual audit;(vii) promptly  after the sending or filing  thereof,copies  of  all  reports   that  the  Company   sends  to  itssecurityholders,  and copies of all reports  and  registrationstatements (other than  registration  statements filed on FormS-8 or otherwise relating to securities being offered and soldunder, or interests in, employee benefit plans),  if any, thatany Borrower or any  Subsidiary  files with the Securities andExchange Commission or any national securities exchange;(viii)  promptly  after  the  commencement   thereof,notice of all actions, suits, investigations,  litigations andproceedings  before  any  court,   Governmental  Authority  orarbitrator  against or in any other way affecting any Borroweror  any  of  its  Subsidiaries  or  any  of  their  respectiveproperties  or  businesses  of the type  described  in Section4.01(g);(ix)  promptly and in any event within five  BusinessDays after becoming aware thereof, notice of any change in therating assigned by any nationally  recognized rating agency toany   securities   issued  by  any  Borrower  or  any  of  itsSubsidiaries  and the effective date of such change,  togetherwith a copy of such notice if available at such time;(x)  promptly   after  the  assertion  or  occurrencethereof,  notice  of  any  Environmental  Action  against  anyBorrower or any of its  Subsidiaries,  or of any noncomplianceby  any  Borrower  or  any  of  its   Subsidiaries   with  anyEnvironmental Law or any Environmental Permit, that (A) eitherindividually or in the aggregate, could reasonably be expectedto have a  Material  Adverse  Effect  or (B)  could  cause anyproperty of such Borrower or such  Subsidiary to be subject toany   restrictions   on   ownership,    occupancy,    use   ortransferability  under  any  Environmental  Law  that,  eitherindividually or in the aggregate, could reasonably be expectedto have a Material Adverse Effect; and(xi)   such   other   information    respecting   thebusinesses, assets, liabilities,  financial condition, resultsof operations or business  prospects of any Borrower or any ofits  Subsidiaries  as any Lender,  through the  AdministrativeAgent, may from time to time reasonably request.SECTION 5.02. Negative Covenants. So long as any RevolvingCredit Advance or any Discounted Note shall remain unpaid or any Lender shallhave any Commitment hereunder, each of the Borrowers will not:(a) Liens,  Etc.  Create or suffer to exist,  or permit any ofits  Subsidiaries  to create  or  suffer to exist,  any Lien on or withrespect  to any of its  properties  and  assets,  whether  now owned orhereafter  acquired,  or  assign  as  security,  or  permit  any of itsSubsidiaries  to  assign  as  security,  any  right to  receive  incometherefrom, other than:(i) Permitted Liens;(ii) Liens  existing or  contemplated  on the date ofthis Agreement and described on Schedule 5.02(a) hereto;(iii)  purchase  money  Liens  upon or in one or moretangible assets acquired or held by any Borrower or any of itsSubsidiaries  in the ordinary course of business to secure thepurchase   price  of  such   tangible   assets  or  to  secureIndebtedness  incurred solely for the purpose of financing theacquisition,  construction  or  improvement  of such  tangibleassets so long as such  Liens are  incurred  within 90 days ofthe date of  acquisition  of such  tangible  assets,  or Liensexisting  on  any  such  tangible  asset  at the  time  of itsacquisition   (other   than  any   such   Liens   created   incontemplation  of such  acquisition  that were not incurred tofinance the  acquisition of such tangible  assets);  provided,however,  that no such  Lien  shall  extend  to or  cover  anyproperty or assets of any  character  other than the  tangibleassets being acquired,  constructed or improved;  and providedfurther  that any  Indebtedness  secured by such  Liens  shallotherwise be permitted under the terms of this Agreement;(iv)  Liens  on  property  and  assets  of  a  Personexisting   at  the  time  such   Person  is  merged   into  orconsolidated  with any Borrower or any of its  Subsidiaries orbecomes a Subsidiary of any  Borrower;  provided that any suchLiens  were  not  created  in  contemplation  of such  merger,consolidation or acquisition and do not extend to or cover (A)any  property or assets  other than the property and assets ofthe  Person  being  merged  into  or  consolidated  with  suchBorrower or such Subsidiary or being acquired by such Borroweror such Subsidiary, as the case may be, or (B) any obligationsof any Person other than those  obligations  that were securedby such  property  and  assets  at the  time  of such  merger,consolidation  or acquisition;  and provided  further that anyIndebtedness   secured  by  such  Liens  shall   otherwise  bepermitted under the terms of this Agreement;(v) Liens on any property or assets of any Subsidiaryof the Company  securing  Indebtedness  owed to the Company orany of its other Subsidiaries;(vi) Liens securing  reimbursement  obligations undercommercial  letters of credit  incurred in the ordinary courseof business; provided that any such Liens shall cover only thegoods,  or  documents  of  title  evidencing  goods,  that arepurchased in the  transaction  for which such letter of creditwas issued and the products and proceeds thereof;(vii) Liens  arising out of  judgments or awards thatdo not constitute an Event of Default under Section 6.01(f) or6.01(g)  and in  respect of which any  Borrower  or any of itsSubsidiaries subject thereto shall be prosecuting an appeal orproceedings for review in good faith and,  pending such appealor  proceedings,  shall  have  secured  a  subsisting  stay ofexecution  within 30 days of such  judgment or award and shallbe  maintaining   appropriate  reserves,  in  accordance  withgenerally accepted  accounting  principles in effect from timeto time, with respect to any such judgment or award;(viii)  Liens on cash,  certificates  of  deposit  orother similar bank obligations  securing  Indebtedness  (whichIndebtedness  may be in a different  currency  from such cash,certificates  of  deposit  or other  bank  obligations)  in anamount  substantially  equal in value  (determined at the timesuch Lien is created) to such cash, certificates of deposit orother bank obligations, as the case may be;(ix)   Environmental   Liens  securing   damages  andliabilities  not to exceed an aggregate  amount of $40,000,000(or the equivalent thereof in one or more foreign  currencies)for the Company and its Subsidiaries at any time;(x) Liens not otherwise  permitted under this Section5.02(a)  securing  obligations  in an aggregate  amount not toexceed  $150,000,000 (or the equivalent thereof in one or moreforeign  currencies)  for the Company and its  Subsidiaries atany time; and(xi)   the   extension,   renewal,   replacement   orrefinancing  of any  Lien  otherwise  permitted  under  any ofclauses (ii)  through (iv) of this Section  5.02(a) upon or inthe same  property  and assets  theretofore  subject  thereto;provided  that  no such  extension,  renewal,  replacement  orrefinancing   shall  extend  to  or  cover  any  property  nottheretofore  subject  to the  Lien  being  extended,  renewed,replaced or  refinanced;  and  provided  further  that (A) anyobligation  secured by such Liens shall otherwise be permittedunder the  terms of this  Agreement  and (B) both  immediatelybefore and  immediately  after giving  effect to such Lien, noDefault shall have occurred and be continuing.(b)  Mergers,  Etc.  Merge or  consolidate  with or  into,  orconvey,  transfer,  lease  or  otherwise  dispose  of  (whether  in onetransaction or in a series of transactions) all or substantially all ofits property and assets  (whether now owned or hereafter  acquired) to,any Person, or permit any of its Subsidiaries to do so, except that:(i)  any  Subsidiary  of the  Company  that  is not aBorrower  may  merge  into or  consolidate  with or  into,  orconvey,  transfer,  lease  or  otherwise  dispose  of  all  orsubstantially  all of its  property  and  assets to, any otherPerson so long as, if such Person is a  Borrower,  such Personis the surviving entity; and(ii) any  Borrower  may merge  with any other  Person(including,  without limitation,  any other Borrower or any ofits  Subsidiaries) so long as (A) if the Company is a party tosuch merger or  consolidation,  the  Company is the  survivingentity or (B) if any other  Borrower is a party to such mergeror  consolidation,  either (1) the  surviving  entity shall besuch  Borrower  or (2) the  surviving  entity  (w)  shall be aSubstantially  Owned  Subsidiary  of the  Company,  (x)  shallsucceed,  by an  agreement  or operation of law, to all of thebusinesses  and  operations of such Borrower and shall assume,in an assumption agreement in form and substance  satisfactoryto the Administrative Agent, all of the rights and obligationsof such Borrower under this Agreement and the Notes, (y) shalldeliver to the  Administrative  Agent all of the certificates,opinions and other documents  described in clauses (b) through(h) of Section 3.02 with respect to such surviving  entity, ineach  case  in  form  and   substance   satisfactory   to  theAdministrative  Agent, and such other documents,  opinions andother  information as any Lender,  through the  AdministrativeAgent, may reasonably  request and (z) shall cause the Companyto deliver to the Administrative Agent written confirmation ofits  obligations  under  Section  7.01  with  respect  to suchsurviving entity;provided,  in each of the foregoing  cases,  that no Default shall haveoccurred and be continuing  at the time of such merger,  consolidation,conveyance,  transfer, lease or disposition, or shall occur as a resultthereof.  Notwithstanding  any  of the  foregoing  provisions  of  thisSection 5.02(b), neither any Borrower nor any of its Subsidiaries shallsell, convey,  transfer,  lease or otherwise dispose of (whether in onetransaction  or in a series of  transactions  and  whether  through thedisposition of shares of capital stock or other property or assets) allor  substantially  all of the power  tool  business  engaged  in by theCompany and its Subsidiaries on the date of this Agreement.(c) Change in Nature of Business. Engage in any business otherthan the businesses  engaged in by the Company and its  Subsidiaries onthe date of this Agreement and other businesses and activities that aresubstantially similar, related or incidental thereto.(d) Fiscal Year.  Make or permit any change in the fiscal yearof the Company.(e)  Substance  Storage  and  Disposal.  Permit any  HazardousMaterials  to be  generated,  used,  treated,  handled or stored at, ortransported  to or from, any property owned or operated by any Borroweror any of its  Subsidiaries  in any  manner  that  could  result in theincurrence  by any  Borrower  or any of its  Subsidiaries  of  remedialobligations or  liabilities  under any  applicable  Environmental  Law,except (a) as set forth on Schedule 4.01 hereto and (b) for  substances(i) to be used in the  business  of such  Borrower  or such  Subsidiarypending and during such use and (ii) that are  generated or used in thebusiness of such Borrower or such Subsidiary pending their disposal.SECTION 5.03.  Financial  Covenants.  So long as any RevolvingCredit  Advance or any  Discounted  Note shall remain unpaid or any Lender shallhave any Commitment hereunder, the Company will:(a) Leverage  Ratio.  Maintain a Leverage Ratio as of the lastday of each of its fiscal quarters of not greater than 3.5 to 1.(b) Cash Flow  Coverage  Ratio.  Maintain a Cash Flow CoverageRatio  as of the last day of each of its  fiscal  quarters  of not lessthan 3.25 to 1.\"]"
      ]
     },
     "execution_count": 17,
     "metadata": {},
     "output_type": "execute_result"
    }
   ],
   "source": [
    "text_in_para"
   ]
  },
  {
   "cell_type": "code",
   "execution_count": 18,
   "metadata": {
    "ExecuteTime": {
     "end_time": "2019-02-08T11:17:54.297269Z",
     "start_time": "2019-02-08T11:17:54.293193Z"
    }
   },
   "outputs": [
    {
     "data": {
      "text/plain": [
       "1"
      ]
     },
     "execution_count": 18,
     "metadata": {},
     "output_type": "execute_result"
    }
   ],
   "source": [
    "len(text_in_para)"
   ]
  },
  {
   "cell_type": "code",
   "execution_count": null,
   "metadata": {},
   "outputs": [],
   "source": []
  }
 ],
 "metadata": {
  "kernelspec": {
   "display_name": "py36",
   "language": "python",
   "name": "py36"
  },
  "language_info": {
   "codemirror_mode": {
    "name": "ipython",
    "version": 3
   },
   "file_extension": ".py",
   "mimetype": "text/x-python",
   "name": "python",
   "nbconvert_exporter": "python",
   "pygments_lexer": "ipython3",
   "version": "3.6.3"
  },
  "latex_envs": {
   "LaTeX_envs_menu_present": true,
   "autoclose": false,
   "autocomplete": true,
   "bibliofile": "biblio.bib",
   "cite_by": "apalike",
   "current_citInitial": 1.0,
   "eqLabelWithNumbers": true,
   "eqNumInitial": 1.0,
   "hotkeys": {
    "equation": "Ctrl-E",
    "itemize": "Ctrl-I"
   },
   "labels_anchors": false,
   "latex_user_defs": false,
   "report_style_numbering": false,
   "user_envs_cfg": false
  },
  "toc": {
   "base_numbering": 1.0,
   "nav_menu": {},
   "number_sections": true,
   "sideBar": true,
   "skip_h1_title": false,
   "title_cell": "Table of Contents",
   "title_sidebar": "Contents",
   "toc_cell": false,
   "toc_position": {},
   "toc_section_display": true,
   "toc_window_display": false
  },
  "varInspector": {
   "cols": {
    "lenName": 16.0,
    "lenType": 16.0,
    "lenVar": 40.0
   },
   "kernels_config": {
    "python": {
     "delete_cmd_postfix": "",
     "delete_cmd_prefix": "del ",
     "library": "var_list.py",
     "varRefreshCmd": "print(var_dic_list())"
    },
    "r": {
     "delete_cmd_postfix": ") ",
     "delete_cmd_prefix": "rm(",
     "library": "var_list.r",
     "varRefreshCmd": "cat(var_dic_list()) "
    }
   },
   "types_to_exclude": [
    "module",
    "function",
    "builtin_function_or_method",
    "instance",
    "_Feature"
   ],
   "window_display": false
  }
 },
 "nbformat": 4,
 "nbformat_minor": 2
}
