{
 "cells": [
  {
   "cell_type": "code",
   "execution_count": 1,
   "metadata": {
    "ExecuteTime": {
     "end_time": "2019-01-20T12:33:54.575029Z",
     "start_time": "2019-01-20T12:33:53.674854Z"
    },
    "hide_input": false
   },
   "outputs": [],
   "source": [
    "import os\n",
    "import re\n",
    "import numpy as np\n",
    "import pandas as pd\n",
    "# import nltk\n",
    "from nltk.corpus import stopwords\n",
    "\n",
    "from settings import resource_folder, covenant_folder, output_folder"
   ]
  },
  {
   "cell_type": "markdown",
   "metadata": {},
   "source": [
    "### Text Preprocessing"
   ]
  },
  {
   "cell_type": "code",
   "execution_count": 2,
   "metadata": {
    "ExecuteTime": {
     "end_time": "2019-01-20T12:33:54.579240Z",
     "start_time": "2019-01-20T12:33:54.576635Z"
    }
   },
   "outputs": [],
   "source": [
    "test_file = 'temp_files/covenant/final-0000798949-04-000061.txt'\n",
    "test_path = os.path.join(output_folder, test_file)"
   ]
  },
  {
   "cell_type": "code",
   "execution_count": 3,
   "metadata": {
    "ExecuteTime": {
     "end_time": "2019-01-20T12:33:54.585377Z",
     "start_time": "2019-01-20T12:33:54.581287Z"
    },
    "hide_input": false
   },
   "outputs": [],
   "source": [
    "with open(test_path, 'r') as f:\n",
    "    #     covenant = f.read()\n",
    "    covenant = f.readlines()"
   ]
  },
  {
   "cell_type": "code",
   "execution_count": 4,
   "metadata": {
    "ExecuteTime": {
     "end_time": "2019-01-20T12:33:54.592713Z",
     "start_time": "2019-01-20T12:33:54.587792Z"
    }
   },
   "outputs": [],
   "source": [
    "f = lambda x: re.sub('^\\s+', '', x)\n",
    "covenant = [f(line) for line in covenant]"
   ]
  },
  {
   "cell_type": "code",
   "execution_count": 5,
   "metadata": {
    "ExecuteTime": {
     "end_time": "2019-01-20T12:33:54.598647Z",
     "start_time": "2019-01-20T12:33:54.594092Z"
    },
    "hide_input": true
   },
   "outputs": [],
   "source": [
    "def reconstruct(text_list):\n",
    "    result = []\n",
    "    paragraph = ''\n",
    "    for line in text_list:\n",
    "        if re.match('^(\\([a-z]\\)|SECTION \\d\\.\\d+?\\.)\\s', line):\n",
    "            result.append(paragraph)\n",
    "            paragraph = ''\n",
    "        paragraph += line.replace('\\n', ' ')\n",
    "    return result\n",
    "\n",
    "\n",
    "covenant = reconstruct(covenant)"
   ]
  },
  {
   "cell_type": "code",
   "execution_count": 6,
   "metadata": {
    "ExecuteTime": {
     "end_time": "2019-01-20T12:33:54.608313Z",
     "start_time": "2019-01-20T12:33:54.599858Z"
    }
   },
   "outputs": [
    {
     "data": {
      "text/plain": [
       "['ARTICLE VII NEGATIVE COVENANTS ............................................ 46 7.1. Dividends ....................................................... 46 7.2. Indebtedness..................................................... 46 7.3. Limitation on Fundamental Changes ............................... 47 7.4. Sale of Assets................................................... 47 7.5. Investments and Acquisitions .................................... 48 7.6. Liens............................................................ 49 7.7. Affiliates....................................................... 50 7.8. Sale and Leaseback Transactions and other Off-Balance Sheet Liabilities...................................................... 50 7.9. Contingent Obligations .......................................... 50 7.10. Financial Contracts............................................. 51 7.11. Letters of Credit .............................................. 51 ii 7.12. Prohibited Contracts ........................................... 52 7.13. Negative Pledge ................................................ 52 ARTICLE VII NEGATIVE COVENANTS ------------------ 7.1. Dividends. The Credit Parties will not, nor will they permit any Subsidiary to, declare or pay any dividends or make any distributions on its capital stock (other than dividends payable in their own capital stock) or redeem, repurchase or otherwise acquire or retire any of its capital stock at any time outstanding, except that any (i) Subsidiary may declare and pay dividends or make distributions to Unit or to a Wholly-Owned Subsidiary of Unit and (ii) during any fiscal year Unit may pay cash dividends in amounts not exceeding twenty-five percent (25%) of its Consolidated Net Income (after taxes) for the preceding fiscal year. 7.2. Indebtedness. The Credit Parties will not create, incur or suffer to exist any Indebtedness, except: ',\n",
       " '(i) The Loans and the Reimbursement Obligations. (ii) Indebtedness existing on the date hereof and described in the Disclosure Schedule. (iii) Indebtedness arising under Rate Management Agreements permitted by Section 7.10. (iv) Contingent Obligations permitted by Section 7.9. ',\n",
       " '(v) Non-recourse Indebtedness in a restricted or special purpose Subsidiary (for which consent of the Required Lenders must be obtained) and as to which none of Credit Parties (i) provides any guaranty or credit support of any kind (including any undertaking, guarantee, indemnity, agreement or instrument that would constitute Indebtedness) or (ii) is directly or indirectly liable (as a guarantor or otherwise); provided, that after giving effect to such Indebtedness outstanding from time to time, the Credit Parties are not in violation of any of the financial covenants of Article VIII. (vi) Normal and ordinary course trade debt and customary obligations relating to the operation of oil and gas producing properties and drilling rigs. (vii) Unsecured senior indebtedness not in excess of $7,500,000 in the aggregate. (viii) Lease obligations (including building and office leases and leases 46 for equipment) not in excess of $10,000,000 in the aggregate. (ix) usual and customary insurance premium financed in the normal course of business. ',\n",
       " '(x) indebtedness regarding self insured liabilities, including retentions under insurance policies. (xi) miscellaneous items of Indebtedness not described in subsections ',\n",
       " '(i) through (viii) above which do not in the aggregate (taking into account all such Indebtedness of the Credit Parties) exceed $2,000,000 at any one time outstanding. 7.3. Limitation on Fundamental Changes. Credit Parties will not enter into any merger, consolidation or amalgamation, or liquidate, wind up or dissolve itself (or suffer any liquidation or dissolution), or convey, sell, lease, assign, transfer or otherwise dispose of, all or substantially all of its property, business or assets, or make any material change in its present method of conducting business, except: ',\n",
       " '(a) any Subsidiary of a Credit Party may be merged or consolidated with or into such Credit Party (provided that such Credit Party will be the continuing or surviving business entity or other entity) or with or into any one or more wholly owned Subsidiaries of the Credit Party that is a Borrower or Subsidiary Guarantor (provided that the wholly owned Borrower or Subsidiary Guarantor will be the continuing or surviving business entity or other entity); and ',\n",
       " '(b) any Wholly Owned Subsidiary may sell, lease, transfer or otherwise dispose of any or all of its assets (upon voluntary liquidation or otherwise) to such Borrower or any other Wholly Owned Subsidiary of such Borrower that is a Borrower or Subsidiary Guarantor. ',\n",
       " '(c) so long as no Default will exist or be caused as a result, a Person may be merged or consolidated with or into a Borrower so long as the Borrower is the continuing or surviving corporation. 7.4. Sale of Assets. The Credit Parties will not lease, sell or otherwise dispose of its Property to any other Person, except: ',\n",
       " '(i) Sales of inventory in the ordinary course of business or the sale of assets not included in the Borrowing Base during any fiscal year in the aggregate gross amount of $2,000,000 or less. (ii) Disposition of equipment and other personal property that is replaced by equivalent property or consumed in the normal operation of its Property. 47 (iii) Dispositions of a portion of its Property in connection with operating agreements, farmouts, farmins, joint exploration and development agreements and other agreements customary in the oil and gas industry that are entered into for the purposes of developing its Property and under which it receives relatively equivalent consideration. (iv) Leases, sales or other dispositions of its Property that, together with all other Property of the Credit Parties and their Subsidiaries previously leased, sold or disposed of (other than (i), (ii) and (iii) above) as permitted by this Section during the period since the most recent Determination Date, do not constitute more than ten percent (10%) of the Engineered Value of the Borrowing Base Properties as determined by Administrative Agent in its sole discretion; further provided, however, to the extent such aggregate consideration for all asset sales or other dispositions of Properties exceeds five percent (5%) of the Borrowing Base during any period between semi-annual Determination Dates, the Required Lenders will have the option to reduce the Borrowing Base by the amount of such proceeds and, further, provided, that any resulting Deficiency (as defined in Section 2.6.6) must be cured by the Credit Parties in accordance with Section 2.8(b). ',\n",
       " '(v) Interests in oil and gas properties, portions thereof, to which no proved reserves of oil, gas or other liquid or gaseous hydrocarbons are properly attributed. (vi) Sale of Property by Petroleum Supply Company in the ordinary course of its existing business operations. 7.5. Investments and Acquisitions. The Credit Parties will not make or suffer to exist any Investments (including without limitation, loans and advances to, and other Investments in, Subsidiaries), or commitments therefor, or to create any Subsidiary or to become or remain a partner in any partnership or joint venture, or to make any Acquisition of any Person, except: ',\n",
       " \"(i) Cash Equivalent Investments. (ii) Investments between Credit Parties or in any Credit Party's Subsidiaries which are Subsidiary Guarantors or Subsidiaries of any Credit Party with respect to which 100% of its Equity has been pledged to Administrative Agent. (iii) Investments in existence on the date hereof and described on the Disclosure Schedule. (iv) Investments in associations, joint ventures, and other relationships (a) that are established pursuant to standard form operating agreements or similar agreements or which are partnerships for purposes of federal income taxation only, (b) that are not corporations or partnerships (or subject to the Uniform 48 Partnership Act or other applicable state partnership act) under applicable state law, or (c) whose businesses are limited to the exploration, development and operation of oil, gas or mineral properties and interests owned directly by the parties in such associations, joint ventures or relationships in which the ownership interest of any Credit Party or its Subsidiary is in direct proportion to the amount of such Investment. \",\n",
       " '(v) Investments in Subsidiaries of the Credit Parties that are not Material Subsidiaries which do not exceed $5,000,000 in the aggregate during any fiscal year of Unit. (vi) Miscellaneous items of Investments not described in clauses ',\n",
       " '(i) through (v) above which do not (taking into account all such Investments of the Credit Parties and their Subsidiaries) exceed an aggregate amount of $5,000,000 during any fiscal year of Unit. 7.6. Liens. The Credit Parties will not create, incur, or suffer to exist any Lien in, of or on the Property of the Credit Parties or any of their Subsidiaries, except: ',\n",
       " \"(i) Liens for taxes, assessments or governmental charges or levies on its Property if the same will not at the time be delinquent or thereafter can be paid without penalty, or are being contested in good faith and by appropriate proceedings and for which adequate reserves in accordance with GAAP will have been set aside on its books. (ii) Liens imposed by law, such as carriers', warehousemen's and mechanics' liens and other similar liens arising in the ordinary course of business which secure payment of obligations not more than 90 days past due or which are being contested in good faith by appropriate proceedings and for which adequate reserves, in accordance with GAAP, will have been set aside on its books. (iii) Liens arising out of pledges or deposits under worker's compensation laws, unemployment insurance, old age pensions, or other social security or retirement benefits, or similar legislation. (iv) Utility easements, building restrictions and such other encumbrances or charges against real property as are of a nature generally existing with respect to properties of a similar character and which do not in any material way affect the marketability of the same or interfere with the use thereof in the business of the Credit Parties or their Subsidiaries. \",\n",
       " '(v) Liens existing on the date hereof and described on the Disclosure Schedule. (vi) Liens in favor of the Administrative Agent, for the benefit of the Lenders, granted pursuant to any Collateral Document. 49 (vii) Liens on Property other than Collateral to secure not more than $1,000,000 in the aggregate of the Indebtedness permitted by Section 7.2(v). (viii) With respect to Property subject to any Collateral Document, Liens burdening such Property that are expressly allowed by such Collateral Document. (ix) Liens arising under operating agreements, unitization, pooling agreements and other agreements customary in the oil and gas industry securing amounts owed to operators and joint owners of oil and gas properties that will not at the time be delinquent, or thereafter can be paid without penalty, or are being contested in good faith and by appropriate proceedings and for which adequate reserves in accordance with GAAP will have been set aside on its books. ',\n",
       " \"(x) Contracts, agreements, instruments, obligations, defects and irregularities affecting the Property that individually or in the aggregate are not such as to interfere materially with the use, operation or value of the Property. (xi) Any lien existing on any asset prior to its acquisition by a Borrower or one of its Subsidiaries and not created in contemplation of the acquisition. (xii) Any extension, renewal or replacement (or successive extensions, renewals or replacements), as a whole or in part, of any Liens referred to in (i) - (xi) above for amounts not exceeding the principal amount of the indebtednesssecured by the Lien so extended, renewed or replaced. 7.7. Affiliates. The Credit Parties will not enter into any transaction (including, without limitation, the purchase or sale of any Property or service) with, or make any payment or transfer to, any Affiliate except in the ordinary course of business and pursuant to the reasonable requirements of the Credit Parties' or such Subsidiary's business and on fair and reasonable terms no less favorable to the Credit Parties or such Subsidiary than the Credit Parties or such Subsidiary would obtain in a comparable arms-length transaction. 7.8. Sale and Leaseback Transactions and other Off-Balance Sheet Liabilities. The Credit Parties will not enter into or suffer to exist any (i) Sale and Leaseback Transaction or (ii) any other transaction pursuant to which it incurs or has incurred Off-Balance Sheet Liabilities, except for Rate Management Obligations permitted to be incurred under the terms of Section 7.10. 7.9. Contingent Obligations. The Credit Parties will not make or suffer to exist any Contingent Obligation (including, without limitation, any Contingent Obligation with respect to the obligations of a Subsidiary), except (i) by endorsement of instruments for deposit or collection in the ordinary course of business, (ii) the Reimbursement Obligations, (iii) the Subsidiary Guaranty, (iv) other Contingent Obligations not to exceed an outstanding aggregate amount of $10,000,000 at any time, and (v) liabilities associated or accrued for abandonment and 50 plugging of Credit Parties' oil and gas properties, and (vi) as general partner of the limited partnerships formed annually to allow employees and directors of Unit to participate in certain of its oil and gas exploration and production operations. 7.10. Financial Contracts. None of Credit Parties will be a party to or in any manner be liable on any Financial Contract except: \",\n",
       " '(a) contracts entered into with the purpose and effect of fixing prices on oil or gas expected to be produced by the Credit Parties and their Subsidiaries, provided that at all times: (i) no such contract fixes a price for a term of more than 36 months; (ii) the aggregate monthly production covered by all such contracts for any single month does not in the aggregate exceed 80% of the aggregate Engineered Projected Production (as defined below) of the Credit Parties and their Subsidiaries anticipated to be sold in the ordinary course of their businesses for such month, (iii) no such contract requires the Credit Parties or any of their Subsidiaries to put up money, assets, letters of credit or other security against the event of its nonperformance prior to actual default by such Credit Parties or any of their Subsidiaries in performing their obligations thereunder (unless such counterparty is a Lender), and (iv) each such contract is with a counterparty or has a guarantor of the obligation of the counterparty who (unless such counterparty is a Lender or one of its Affiliates) at the time the contract is made has long-term obligations rated BBB+ or Baal or better, respectively, by either Moody\\'s or S&P. As used in this subsection, the term \"Engineered Projected Production\" means the Engineered Value of projected production of oil or gas (measured by volume unit or BTU equivalent, not sales price) for the term of the contracts or a particular month, as applicable, from properties and interests owned by the Credit Parties and their Subsidiaries that are located in or offshore of the United States and are proved developed producing reserves (as determined by the Administrative Agent in its oil and gas lending criteria), as such production is projected in the most recent report delivered pursuant to Section 6.1(vii) or (viii), after deducting projected production from any properties or interests sold or under contract for sale that had been included in such report and after adding projected production from any properties or interests that had not been reflected in such report but that are reflected in a separate or supplemental reports meeting the requirements of such Section 6.1(vii) or (viii) above and otherwise are satisfactory to Administrative Agent; ',\n",
       " '(b) contracts entered into by Credit Parties or their Subsidiaries with the purpose and effect of fixing interest rates on a principal amount of indebtedness of such Credit Parties or their Subsidiaries that is accruing interest at a variable rate, provided that no such contract will be entered into by Credit Parties or any of their Subsidiaries for speculative purposes; and ',\n",
       " \"(c) such contracts comply with the Rate Management Transactions' criteria disclosed in writing to the Administrative Agent. 7.11. Letters of Credit. The Credit Parties will not apply for or become liable upon or in respect of any Letter of Credit other than LCs. 51 7.12. Prohibited Contracts. Except as expressly permitted in this Agreement or the other Loan Documents, none of Credit Parties will, directly or indirectly, enter into, create, or otherwise allow to exist any contract or other consensual restriction on the ability of any Subsidiary of a Borrower to: \",\n",
       " '(a) pay dividends or make other distributions to other Credit Parties, (b) to redeem equity interests held in it by other Credit Parties, or (c) to repay loans and other indebtedness owing by it to other Credit Parties. None of the Credit Parties or their Subsidiaries will amend or permit any amendment to any contract or lease which releases, qualifies, limits, makes contingent or otherwise detrimentally affects the rights and benefits of the Administrative Agent or any Lender under or acquired pursuant to any Collateral Documents. 7.13. Negative Pledge. Except only for Liens permitted by applicable subsections of Section 7.6, none of the Credit Parties will cause or permit the pledging, encumbrance, mortgaging, granting of a consensual security interest or any other type of pledge, charge or imposition of a Lien against any of the Credit Parties\\' or any Subsidiaries\\' (including without limitation, PetroCorps\\') oil and gas mining and mineral interests, rights and properties, proved, developed, producing or otherwise (whether now owned or hereafter created or acquired) constituting 100% of the Engineered Value thereto, to secure any Indebtedness (including Contingent Obligations) without the prior written consent of the Administrative Agent and the Lenders. This covenant, to the fullest extent permitted by applicable law, will be deemed and construed as a \"negative pledge\" of all such oil and gas mining and mineral interests in favor of the Administrative Agent for the benefit of the Lenders. ARTICLE XII GENERAL PROVISIONS............................................. 58 12.1. Survival of Representations .................................... 59 12.2. Governmental Regulation ........................................ 59 12.3. Headings ....................................................... 59 12.4. Entire Agreement ............................................... 59 12.5. Several Obligations; Benefits of this Agreement ................ 59 12.6. Expenses; Indemnification....................................... 59 12.7. Severability of Provisions ..................................... 60 12.8. Nonliability of Lenders ........................................ 60 12.9. Confidentiality................................................. 60 12.10. Disclosure..................................................... 61 12.11. Place of Payment .............................................. 61 12.12. Interest ...................................................... 61 12.13. Automatic Debit of Borrowers\\' Operating Account ............... 62 12.14. Exceptions to Covenants ....................................... 62 12.15. Conflict with Security Instruments ............................ 62 12.16. Lost Documents................................................. 62 ARTICLE XII GENERAL PROVISIONS ------------------ 58 12.1. Survival of Agreements. All covenants, agreements, representations and warranties contained in this Agreement will survive the making of the Credit Extensions during the term of this Agreement and any extensions, renewals, supplements or restatements of this Agreement. 12.2. Governmental Regulation. Anything contained in this Agreement to the contrary notwithstanding, neither the LC Issuer nor any Lender will be obligated to extend credit to the Credit Parties in violation of any limitation or prohibition provided by any applicable statute or regulation. 12.3. Headings. Section headings in the Loan Documents are for convenience of reference only, and will not govern the interpretation of any of the provisions of the Loan Documents. 12.4. Entire Agreement. The Loan Documents embody the entire agreement and understanding among the Borrowers, the Administrative Agent, the LC Issuer and the Lenders and supersede all prior agreements and understandings among the Borrowers, the Administrative Agent, the LC Issuer and the Lenders relating to the subject matter of the Loan Documents other than the Administrative Agent Fee Letter, all of which will survive and remain in full force and effect during the term of this Agreement. 12.5. Several Obligations; Benefits of this Agreement. The respective obligations of the Lenders hereunder are several and not joint and no Lender will be the partner or Administrative Agent of any other (except to the extent to which the Administrative Agent is authorized to act in such capacity). The failure of a Lender to perform any of its obligations hereunder will not relieve any other Lender from any of its obligations hereunder. This Agreement will not be construed so as to confer any right or benefit on any Person other than the parties to this Agreement and their respective successors and assigns. 12.6. Expenses; Indemnification. ',\n",
       " \"(i) The Borrowers will reimburse the Administrative Agent and the Syndication Agent for any filing and recording fees, reasonable costs and out-of- pocket expenses (including reasonable attorneys' fees, time charges and expenses advanced of attorneys for the Administrative Agent or for any of the Lenders) paid or incurred by the Administrative Agent or the Syndication Agent in connection with the preparation, negotiation, execution, closing, delivery, syndication, review, amendment, waiver, consent or modification, restructure, refinancing, Lien perfection, administration, collection and enforcement of the Loan Documents, regardless of whether or not the transactions provided for in this Agreement are eventually closed and regardless of whether or not any or all sums evidenced by the Notes are advanced to the Borrowers by the Lenders. (ii) The Credit Parties hereby also agree to indemnify the Administrative Agent, the Syndication Agent, the LC Issuer and each Lender, its directors, officers and employees against all losses, claims, damages, penalties, 59 judgments, liabilities and expenses (including, without limitation, all expenses of litigation or preparation therefor whether or not the Administrative Agent, the Syndication Agent, the LC Issuer or any Lender is a party to such litigation) which any of them may pay or incur in good faith as a result of this Agreement, the other Loan Documents, the transactions contemplated by the Loan Documents except to the extent that they are determined in a final non-appealable judgment by a court of competent jurisdiction to have resulted from the gross negligence or willful misconduct of the party seeking indemnification. The obligations of the Credit Parties under this Section 12.6 will survive the termination of this Agreement. 12.7. Severability of Provisions. Any provision in any Loan Document that is held to be inoperative, unenforceable, or invalid in any jurisdiction will, as to that jurisdiction, be inoperative, unenforceable, or invalid without affecting the remaining provisions in that jurisdiction or the operation, enforceability, or validity of that provision in any other jurisdiction. The provisions of all Loan Documents are severable. 12.8. Nonliability of Lenders. The relationship between the Borrowers on the one hand and the Lenders, the LC Issuer and the Administrative Agent on the other hand will, to the extent that relationship is the subject of this Agreement, be solely that of borrowers and lenders. Neither the Administrative Agent, the Syndication Agent, the LC Issuer nor any Lender will have any fiduciary responsibilities to the Credit Parties. Neither the Administrative Agent, the Syndication Agent, the LC Issuer nor any Lender undertakes any responsibility to the Credit Parties to review or inform the Credit Parties of any matter in connection with any phase of the Credit Parties' business or operations. The Borrowers agree that neither the Administrative Agent, the Syndication Agent, the LC Issuer nor any Lender will have liability to the Credit Parties (whether sounding in tort, contract or otherwise) for losses suffered by the Credit Parties in connection with, arising out of, or in any way related to, the transactions contemplated and the relationship established by the Loan Documents, or any act, omission or event occurring in connection therewith, unless it is determined in a final non-appealable judgment by a court of competent jurisdiction that such losses resulted from the gross negligence or willful misconduct of the party from which recovery is sought. Neither the Administrative Agent, the Syndication Agent, the LC Issuer nor any Lender will have any liability with respect to, and the Credit Parties hereby waive, release and agree not to sue for, any special, indirect or consequential damages suffered by the Credit Parties in connection with, arising out of, or in any way related to the Loan Documents or the transactions contemplated thereby. 12.9. Confidentiality. Each Lender agrees to hold as confidential any information which it may receive from the Borrowers pursuant to this Agreement in confidence, except for disclosure (i) to its Affiliates and to other Lenders and their respective Affiliates, (ii) to legal counsel, accountants, and other professional advisors to such Lender or to a Transferee, (iii) to regulatory officials, (iv) to any Person as requested pursuant to or as required by law, regulation, or legal process, (v) to any Person in connection with any legal proceeding to which such Lender is a party, (vi) to such Lender's direct or indirect contractual counterparties in swap agreements or to legal counsel, accountants and other professional advisors to such counterparties, (vii) permitted by Section 14.4, (viii) to rating agencies if requested or required by such agencies in 60 connection with a rating relating to the Advances, and (ix) of information that the Credit Parties have made available to the general public. 12.10. Disclosure. The Borrowers and each Lender hereby acknowledge and agree that BOk and/or its Affiliates from time to time may hold investments in, make other loans to or have other relationships with the Borrowers and/or their Subsidiaries. 12.11. Place of Payment. All amounts to be paid by the Borrowers or the Subsidiary Guarantors under this Agreement will be paid in immediately available funds to the Administrative Agent at its principal banking offices at Bank of Oklahoma Tower, One Williams Center, Tulsa, Oklahoma 74192, Attention: Energy Department -8th Floor, or at such other place as the Administrative Agent or the Required Lenders will notify Unit in writing. If any interest, principal or other payment falls due on a date other than a Business Day, then (unless otherwise provided in this Agreement) such due date will be extended to the next succeeding Business Day, and such extension of time will in such case be included in computing interest, if any, in connection with such payment. 12.12. Interest. It is the intention of the parties to this Agreement that the Lenders conform strictly to usury laws applicable to it. Accordingly, if the transactions contemplated by this Agreement would be usurious as to a Lender under laws applicable to it (including the laws of the United States of America or any other jurisdiction whose laws may be mandatorily applicable to Lenders notwithstanding the other provisions of this Agreement), then, in that event, notwithstanding anything to the contrary in any of the Loan Documents or any agreement entered into in connection with or as security for the Notes, it is agreed as follows: \",\n",
       " \"(i) the aggregate of all consideration which constitutes interest under law applicable to Lenders that is contracted for, taken, reserved, charged or received by Lenders under any of the Loan Documents or agreements or otherwise in connection with the Notes will under no circumstances exceed the Highest Lawful Rate allowed by such applicable law, and any excess will be canceled automatically and if theretofore paid will be credited by the Administrative Agent or the Lenders on the principal amount of the Obligations (or, to the extent that the principal amount of the Obligations will have been or would thereby be paid in full, refunded by Administrative Agent or the Lenders to the Borrowers); and (ii) in the event that the maturity of any of the Notes is accelerated by, because of or resulting from an Event of Default under this Agreement or otherwise, or in the event of any required or permitted prepayment, then such consideration that constitutes interest under law applicable to Administrative Agent or the Lenders may never include more than the maximum amount allowed by such applicable law, and excess interest, if any, provided for in this Agreement or otherwise will be canceled automatically by Lenders as of the date of such acceleration or prepayment and, if theretofore paid, will be credited by Administrative Agent or the Lenders on the principal amount of the Obligations 61 (or, to the extent that the principal amount of the Obligations will have been or would thereby be paid in full, refunded by Lenders to the Borrowers). All sums paid or agreed to be paid to Administrative Agent or the Lenders for the use, forbearance or detention of sums due under this Agreement will, to the extent permitted by law applicable to Administrative Agent and/or the Lenders, be amortized, prorated, allocated and spread throughout the full term of the Loans evidenced by the Notes until payment in full so that the rate or amount of interest on account of any Loans under this Agreement does not exceed the Highest Lawful Rate allowed by such applicable law. If at any time and from time to time (i) the amount of interest payable to Lenders on any date will be computed at the highest lawful rate applicable to Lenders pursuant to this Section 12.12; and (ii) in respect of any subsequent interest computation period the amount of interest otherwise payable to Lenders would be less than the amount of interest payable to Lenders computed at the highest lawful rate applicable to such Lenders, then the amount of interest payable to Lenders regarding such subsequent interest computation period will continue to be computed at the Highest Lawful Rate applicable to Lenders until the total amount of interest payable to Lenders equals the total amount of interest which would have been payable to Lenders if the total amount of interest had been computed without giving effect to this Section 12.12. None of the terms and provisions contained in this Agreement or in any other Loan Document which directly or indirectly relate to interest will ever be construed without reference to this Section 12.12, or be construed to create a contract to pay for the use, forbearance or detention of money at an interest rate in excess of the Highest Lawful Rate. 12.13. Automatic Debit of Borrowers' Operating Account. Upon Borrowers' failure to pay all such costs and expenses owed by Borrowers under Section 12.6 of this Agreement within thirty (30) days of the Administrative Agent's submission of invoices therefore, the Administrative Agent will pay such costs and expenses by debit to the operating account of Borrowers with the Administrative Agent without further or other notice to Borrowers. 12.14. Exceptions to Covenants. The Credit Parties are not permitted to take any action or fail to take any action which is permitted as an exception to any of the covenants contained in this Agreement or which is within the permissible limits of any of the covenants contained in this Agreement if such action or omission would result in the breach of any other covenant contained in this Agreement. 12.15. Conflict with Security Instruments. To the extent the terms and provisions of any of the Security Instruments are in conflict with the terms and provisions hereof, this Agreement will be deemed controlling. 12.16. Lost Documents. On receipt of an affidavit of an officer of the Administrative Agent as to the loss, theft, destruction or mutilation of the Notes or Collateral Documents which 62 is not of public record, and, in the case of any mutilation, on the surrender and cancellation of the Notes or Collateral Documents, the Borrowers or any Subsidiary Guarantors will issue, in lieu thereof, a replacement Note(s) or other Collateral Documents in the same principal amount thereof (in the case of any of the Notes) and otherwise of like tenor. ARTICLE VIII FINANCIAL COVENANTS ------------------- 8.1. Current Ratio. Unit will not permit the ratio, determined as of the end of each of Unit's fiscal quarters, of (i) Unit's consolidated Current Assets (including the then Available Aggregate Commitment) to (ii) Unit's consolidated Current Liabilities (including the current portion of the Loans), to be less than 1.0 to 1.0. 8.2. Leverage Ratio. Unit will not permit the ratio, determined as of the end of each of Unit's fiscal quarters, of (i) Long Term Debt to (ii) Consolidated EBITDA for the then mostrecently ended rolling four (4) fiscal quarters to be greater than 3.25 to 1.0. 8.3. Minimum Consolidated Net Worth. Unit will not permit Unit's Consolidated Net Worth to be less than Three Hundred Fifty Million Dollars ($350,000,000) as tested quarterly effective as of the close of each fiscal quarter of Unit and annually effective as of the close of each fiscal year end, based on the quarterly and annual financial statement reporting requirements of Section 6.1(i) and (ii), respectively. 52 ARTICLE VIII FINANCIAL COVENANTS .......................................... 52 8.1. Current Ratio.................................................... 52 8.2. Leverage Ratio .................................................. 52 8.3. Minimum Consolidated Net Worth .................................. 52 ARTICLE VI AFFIRMATIVE COVENANTS --------------------- During the term of this Agreement, unless the Required Lenders will otherwise consent in writing: 6.1. Reports. Unit will maintain and furnish to the Lenders: 39 \",\n",
       " \"(i) Within 80 days after the close of each of its fiscal years, the financial statements of Unit and its Subsidiaries, together with an unqualified audit report certified by Unit's independent certified public accountants, prepared in accordance with GAAP on a consolidated basis, including a balance sheet as of the end of such period and statements of operations, stockholders equity and cash flows for such period. (ii) Within 45 days after the close of the first three quarterly periods of each of its fiscal years, consolidated unaudited balance sheets as at the close of each such period and statements of operations, stockholders equity and cash flows for the period from the beginning of such fiscal year to the end of such quarter, all certified by its chief financial officer. (iii) Together with the financial statements required under Sections 6.1(i) and (ii), copies of all certifications made by officers of Unit to the SEC in connection with such financial statements and a compliance certificate in substantially the form of Exhibit B signed by Unit's chief financial officer showing the calculations necessary to determine compliance with this Agreement and stating that no Default exists, or if any Default exists, stating the nature and status of such Default. (iv) As soon as practicable and in any event within 10 days after the Credit Parties know that any Reportable Event has occurred with respect to any Plan, a statement, signed by the chief financial officer of Unit, describing said Reportable Event and the action which the Credit Parties propose to take regarding the Reportable Event. \",\n",
       " '(v) As soon as practicable and in any event within 10 days after receipt by the Credit Parties, a copy of (a) any notice or claim to the effect that the Credit Parties is or may be liable to any Person as a result of the release by the Credit Parties, or any other Person of any toxic or hazardous waste or substance into the environment, and ',\n",
       " '(b) any notice alleging any violation of any federal, state or local environmental, health or safety law or regulation by the Credit Parties, which, in either case, could reasonably be expected to have a Material Adverse Effect. (vi) Promptly on the furnishing to the stockholders of the Unit, copies of all financial statements, reports and proxy statements so furnished. (vii) By April 1 of each year (commencing as of April 1, 2004), an Engineering Report prepared as of the prior December 31, by petroleum engineers who are employees of Credit Parties and audited by Ryder Scott Company, or such other firm of independent petroleum engineers chosen by Unit and acceptable to the Administrative Agent, concerning all oil and gas properties and interests owned by any Credit Parties and their Subsidiaries which are located in or offshore of the United States and which have attributable to them proved oil or 40 gas reserves. This reserve audit described above will encompass a review of the reserves associated with oil and gas properties comprising at least 80% of the value stated in the report. The Engineering Report will be satisfactory to Administrative Agent, will contain sufficient information to enable Credit Parties to meet the reporting requirements concerning oil and gas reserves contained in Regulations S-K and S-X promulgated by the SEC, will take into account any \"over/under produced\" status under gas balancing arrangements, and will contain information and analysis comparable in scope to that contained in the Initial Engineering Report. (viii) By October 1 of each year (commencing as of October 1, 2004), and promptly following notice of a Special Redetermination under Section 2.6.4, an Engineering Report prepared as of the preceding June 30 (or the last day of the prior calendar month in the case of an additional redetermination) by petroleum engineers who are employees of Borrowers, together with an accompanying report on property sales, property purchases and changes in categories, both in the same form and scope as the reports in (x) above. (ix) By April 1 and October 1 of each year, beginning April 1, 2004, a report describing the gross volume of production and sales attributable to production during the prior six-month period from the properties described in the Engineering Report in Section 6.1(vii) or Section 6.1(viii) and describing the related severance taxes, other taxes, and leasehold operating expenses attributable thereto and incurred during such month. ',\n",
       " '(x) Such other information (including non-financial information) as the Administrative Agent or any Lender may from time to time reasonably request. 6.2. Use of Proceeds. The Borrowers will use such proceeds of the Credit Extensions as necessary to refinance any Existing Indebtedness with the Existing Lenders, to fund the consummation of the PetroCorp acquisition, for general working capital requirements for (a) exploration, development, production and acquisition of oil and gas properties, and (b) contract drilling services, the issuance of LCs and for general corporate purposes. The Borrower will not, nor will they permit any Subsidiary to, use any of the proceeds of the Advances to purchase or carry any \"margin stock\" (as defined in Regulations T and U). 6.3. Notice of Default. Unit will give prompt notice in writing to the Lenders of the occurrence of any Default and of any other development, financial or otherwise, which could reasonably be expected to have a Material Adverse Effect. 6.4. Conduct of Business. The Credit Parties will each carry on and conduct its business in substantially the same manner and in substantially the same fields of enterprise as it is presently conducted and do all things necessary to remain duly incorporated or organized, validly existing and (to the extent such concept applies to such entity) in good standing as a domestic corporation, partnership or limited liability company in its jurisdiction of incorporation 41 or organization, as the case may be, and maintain all requisite authority to conduct its business in each jurisdiction in which its business is conducted. 6.5. Taxes. The Credit Parties will timely file complete and correct United States federal and applicable foreign, state and local tax returns required by law and pay when due all taxes, assessments and governmental charges and levies upon it or its income, profits or Property, except those which are being contested in good faith by appropriate proceedings and with respect to which adequate reserves have been provided in accordance with GAAP. 6.6. Insurance. The Credit Parties will maintain with, to the best of Unit\\'s knowledge and belief, financially sound and reputable insurance companies insurance on all their Property in such amounts and covering such risks as is consistent with their prior business practice and deemed prudent by industry standards, and the Credit Parties will furnish to any Lender upon request full information as to the insurance carried. 6.7. Compliance With Laws. The Credit Parties will comply, in all material respects, with all laws, rules, regulations, orders, writs, judgments, injunctions, decrees or awards to which it may be subject including, without limitation, all Environmental Laws. 6.8. Maintenance of Properties. The Credit Parties will do all things reasonably necessary to maintain, preserve, protect and keep their respective Property in good repair, working order and condition, and make all necessary and proper repairs, renewals and replacements so that its business carried on in connection therewith may be conducted at all times consistent with such Credit Party\\'s prior business practices. 6.9. Inspection. The Credit Parties will permit the Administrative Agent and the Lenders, by their respective representatives and Administrative Agents, to inspect any of the Property, books and financial records of the Credit Parties and each Subsidiary of any thereof, to examine and make copies of the books of accounts and other financial records of the Credit Parties and each Subsidiary of any thereof, and to discuss the affairs, finances and accounts of the Credit Parties and each Subsidiary with, and to be advised as to the same by, their respective officers at such reasonable times and intervals as the Administrative Agent or any Lender may designate. 6.10. Collateral Documents. Unit Drilling Company will execute and, where applicable, Borrowers will cause their respective Subsidiaries to execute and deliver (and, where applicable, acknowledge and have properly notarized) all of the Collateral Documents listed on Schedule 4 (Security Schedule) annexed hereto, each on the number of executed counterparts as deemed necessary or appropriate by the Administrative Agent and otherwise in form, scope and substance satisfactory to the Administrative Agent and its legal counsel. 6.11. Deposit Accounts/Setoff. ',\n",
       " '(a) Bank Accounts; Offset. To secure the repayment of the Obligations and the Rate Management Obligations, each Borrower grants to the Administrative Agent and each Lender a security interest, a lien, and a right of setoff and offset, each of which will 42 be in addition to all other interests, liens, and rights of any Lender at common Law, under the Loan Documents, or otherwise, and each of which will be upon and against (a) any and all moneys, securities and other property (and the proceeds therefrom) of such Borrower now or hereafter held or received by or in transit to any Lender from or for the account of such Borrower, whether for safekeeping, custody, pledge, transmission, collection or otherwise, (b) any and all deposits and deposit accounts (general or special, time or demand, provisional or final) of such Borrower with any Lender, and (c) any other credits and claims of such Borrower at any time existing against any Lender, including claims under certificates of deposit (excluding from the foregoing security interest grant and right of set off and offset the accounts of the accounts at BOK as specified on Schedule 7 hereto (collectively, the \"Excluded Accounts\"). At any time and from time to time during the continuance of any Event of Default, each Lender is hereby authorized to foreclose upon, or to offset against the Obligations then due and payable (in either case without notice to any Borrower), any and all items hereinabove referred to. The remedies of foreclosure and offset are separate and cumulative, and either may be exercised independently of the other without regard to procedures or restrictions applicable to the other. ANY AND ALL RIGHTS TO REQUIRE THE ADMINISTRATIVE AGENT OR THE LENDERS TO EXERCISE ANY RIGHTS OR REMEDIES WITH RESPECT TO ANY OTHER COLLATERAL WHICH SECURES THE ADVANCES PRIOR TO EXERCISING ANY RIGHT OF SET OFF WITH RESPECT TO ANY DEPOSITS, CREDITS OR OTHER PROPERTY OF THE CREDIT PARTIES ARE HEREBY KNOWINGLY, VOLUNTARILY AND IRREVOCABLY WAIVED ',\n",
       " '(b) Control of Collateral. Administrative Agent hereby appoints each of the other Lenders to serve as its bailee to perfect Administrative Agent\\'s Liens in any Collateral in the possession of any such other Lenders. Each Lender possessing any Collateral agrees to so act as bailee for Administrative Agent in accordance with the terms and provisions hereof. In furtherance of the foregoing, each Lender acknowledges that certain of the Credit Parties maintain deposit or other accounts (all such accounts maintained by any Credit Party with a Lender (other than the Excluded Accounts) are collectively called the \"Lender Accounts\" and individually called a \"Lender Account\") at one or more of the Lenders as disclosed pursuant to this Agreement. Each Lender agrees to hold its Lender Accounts as bailee for Administrative Agent to perfect the security interest held for the benefit of the Lenders therein. Prior to the receipt by a Lender of notice from Administrative Agent that it is exercising exclusive control over any Lender Account (a \"Notice of Exclusive Control\"), the Credit Parties are entitled to make withdrawals from the Lender Accounts and make deposits into and give entitlement orders with respect to the Lender Accounts. Once a Lender has a Notice of Exclusive Control, which such notice will not be given until a Default or Event of Default has occurred and is continuing, Administrative Agent will be the only party entitled to make withdrawals from or otherwise give any entitlement order or other direction with respect to the Lender Accounts. To the extent not already occurring, each Lender agrees to transfer, in immediately available funds by wire transfer to Administrative Agent, the amount of the collected funds credited to the deposit accounts which are Lender Accounts held by such Lender, and deliver to Administrative Agent all moneys or 43 instruments relating to such Lender Accounts or held therein and any other Collateral at any time Administrative Agent demands payment or delivery thereof after a Notice of Exclusive Control has been delivered to such Lender. Each Credit Party agrees that each Lender is authorized to immediately deliver all the Collateral to Administrative Agent upon the Lender\\'s receipt of Notice of Exclusive Control from Administrative Agent. No Lender (other than Administrative Agent acting for the benefit of the other Lenders) will exercise any right of set-off or banker lien against any Lender Account; provided that a Lender will be entitled to charge, or set-off against a Lender Account and retain for its own account, any customary fees, costs, charges and expenses owed to it in connection with the opening, operating and maintaining such Lender Account and for the amount of any item credited to such Lender Account that is subsequently returned for any reason. ']"
      ]
     },
     "execution_count": 6,
     "metadata": {},
     "output_type": "execute_result"
    }
   ],
   "source": [
    "covenant"
   ]
  },
  {
   "cell_type": "markdown",
   "metadata": {},
   "source": [
    "### Text Analysis"
   ]
  },
  {
   "cell_type": "code",
   "execution_count": 7,
   "metadata": {
    "ExecuteTime": {
     "end_time": "2019-01-20T12:33:54.752994Z",
     "start_time": "2019-01-20T12:33:54.609809Z"
    }
   },
   "outputs": [],
   "source": [
    "from gensim import corpora, models, similarities\n",
    "from collections import defaultdict"
   ]
  },
  {
   "cell_type": "code",
   "execution_count": 8,
   "metadata": {
    "ExecuteTime": {
     "end_time": "2019-01-20T12:33:54.762658Z",
     "start_time": "2019-01-20T12:33:54.754736Z"
    }
   },
   "outputs": [],
   "source": [
    "stopwords = set(stopwords.words('english'))"
   ]
  },
  {
   "cell_type": "code",
   "execution_count": 9,
   "metadata": {
    "ExecuteTime": {
     "end_time": "2019-01-20T12:33:54.767944Z",
     "start_time": "2019-01-20T12:33:54.763999Z"
    }
   },
   "outputs": [],
   "source": [
    "texts = [[word for word in line.lower().strip().split() if word not in stopwords] for line in covenant]"
   ]
  },
  {
   "cell_type": "code",
   "execution_count": 10,
   "metadata": {
    "ExecuteTime": {
     "end_time": "2019-01-20T12:33:54.875655Z",
     "start_time": "2019-01-20T12:33:54.769044Z"
    }
   },
   "outputs": [
    {
     "name": "stderr",
     "output_type": "stream",
     "text": [
      "/Users/leonling/workspace/pyenv/py36/lib/python3.6/site-packages/gensim/models/ldamodel.py:807: RuntimeWarning: overflow encountered in exp2\n",
      "  perwordbound, np.exp2(-perwordbound), len(chunk), corpus_words\n"
     ]
    }
   ],
   "source": [
    "dictionary = corpora.Dictionary(texts)\n",
    "corpus = [dictionary.doc2bow(text) for text in texts]\n",
    "\n",
    "corpus_tfidf = models.TfidfModel(corpus)[corpus]\n",
    "num_topics = 60\n",
    "\n",
    "lda = models.LdaModel(corpus_tfidf, num_topics=num_topics, id2word=dictionary,\n",
    "      alpha=0.01, eta=0.01, minimum_probability=0.001, update_every = 1, chunksize = 100, passes = 1)"
   ]
  },
  {
   "cell_type": "code",
   "execution_count": 11,
   "metadata": {
    "ExecuteTime": {
     "end_time": "2019-01-20T12:33:54.881780Z",
     "start_time": "2019-01-20T12:33:54.877527Z"
    }
   },
   "outputs": [
    {
     "data": {
      "text/plain": [
       "[(1071, 0.0006238302),\n",
       " (1072, 0.0006238302),\n",
       " (1068, 0.0006238302),\n",
       " (1069, 0.0006238302),\n",
       " (1070, 0.0006238302),\n",
       " (1066, 0.0006238302),\n",
       " (1075, 0.0006238302),\n",
       " (1074, 0.0006238302),\n",
       " (1064, 0.0006238302),\n",
       " (1073, 0.0006238302)]"
      ]
     },
     "execution_count": 11,
     "metadata": {},
     "output_type": "execute_result"
    }
   ],
   "source": [
    "lda.get_topic_terms(topicid=0)"
   ]
  },
  {
   "cell_type": "code",
   "execution_count": 12,
   "metadata": {
    "ExecuteTime": {
     "end_time": "2019-01-20T12:33:54.937777Z",
     "start_time": "2019-01-20T12:33:54.883331Z"
    }
   },
   "outputs": [
    {
     "name": "stdout",
     "output_type": "stream",
     "text": [
      "0th topic:\n",
      "agent's allocated action affidavit affirmative acceleration automatically \n",
      " [0.00062383 0.00062383 0.00062383 0.00062383 0.00062383 0.00062383\n",
      " 0.00062383]\n",
      "1th topic:\n",
      "agent's allocated action affidavit affirmative acceleration automatically \n",
      " [0.00062383 0.00062383 0.00062383 0.00062383 0.00062383 0.00062383\n",
      " 0.00062383]\n",
      "2th topic:\n",
      "necessary financial conduct respective statements use reasonably \n",
      " [0.00734588 0.00538309 0.00501128 0.0045089  0.00427001 0.00402783\n",
      " 0.00402783]\n",
      "3th topic:\n",
      "agent's allocated action affidavit affirmative acceleration automatically \n",
      " [0.00062383 0.00062383 0.00062383 0.00062383 0.00062383 0.00062383\n",
      " 0.00062383]\n",
      "4th topic:\n",
      "agent's allocated action affidavit affirmative acceleration automatically \n",
      " [0.00062383 0.00062383 0.00062383 0.00062383 0.00062383 0.00062383\n",
      " 0.00062383]\n",
      "5th topic:\n",
      "subsidiaries) liens. incur, 7.6. unit. (taking $5,000,000 \n",
      " [0.01618504 0.01618504 0.01618504 0.01291878 0.01291878 0.01291878\n",
      " 0.01291878]\n",
      "6th topic:\n",
      "transaction contingent leaseback (xi) off-balance obligations, obligation \n",
      " [0.00973838 0.00766251 0.00531221 0.00531221 0.00531221 0.00531221\n",
      " 0.00531221]\n",
      "7th topic:\n",
      "lender exclusive accounts control agent agrees administrative \n",
      " [0.02158147 0.01131146 0.0106399  0.00913011 0.00778554 0.0073151\n",
      " 0.00706067]\n",
      "8th topic:\n",
      "agent's allocated action affidavit affirmative acceleration automatically \n",
      " [0.00062383 0.00062383 0.00062383 0.00062383 0.00062383 0.00062383\n",
      " 0.00062383]\n",
      "9th topic:\n",
      "lcs. ability restriction to: transactions' into, indirectly, \n",
      " [0.00916682 0.00916682 0.00916682 0.00916682 0.00916682 0.00916682\n",
      " 0.00916682]\n",
      "10th topic:\n",
      "dividends negative 46 50 capital 7.2. stock \n",
      " [0.01414523 0.00864662 0.00864662 0.00864662 0.00864662 0.00734153\n",
      " 0.00734153]\n",
      "11th topic:\n",
      "agent's allocated action affidavit affirmative acceleration automatically \n",
      " [0.00062383 0.00062383 0.00062383 0.00062383 0.00062383 0.00062383\n",
      " 0.00062383]\n",
      "12th topic:\n",
      "statements certified chief reportable signed operations, close \n",
      " [0.00875929 0.00728736 0.00602168 0.00577971 0.00494557 0.00480485\n",
      " 0.00478936]\n",
      "13th topic:\n",
      "projected counterparty production report term month, reflected \n",
      " [0.01824933 0.01229793 0.01082146 0.00637901 0.00637901 0.00634653\n",
      " 0.00634653]\n",
      "14th topic:\n",
      "agent's allocated action affidavit affirmative acceleration automatically \n",
      " [0.00062383 0.00062383 0.00062383 0.00062383 0.00062383 0.00062383\n",
      " 0.00062383]\n",
      "15th topic:\n",
      "borrowing base dispositions determination sales provided, percent \n",
      " [0.00989505 0.00975969 0.00890058 0.00551222 0.00496967 0.00433646\n",
      " 0.00423642]\n",
      "16th topic:\n",
      "entered rate, purposes; accruing variable speculative rates \n",
      " [0.01220603 0.01050119 0.01050119 0.01050119 0.01050119 0.01050119\n",
      " 0.01050119]\n",
      "17th topic:\n",
      "agent's allocated action affidavit affirmative acceleration automatically \n",
      " [0.00062383 0.00062383 0.00062383 0.00062383 0.00062383 0.00062383\n",
      " 0.00062383]\n",
      "18th topic:\n",
      "59 agreement 62 entire several benefits lc \n",
      " [0.00867001 0.00682235 0.00589224 0.00559773 0.00559773 0.00559773\n",
      " 0.00450336]\n",
      "19th topic:\n",
      "parties, person waste claim environment, hazardous toxic \n",
      " [0.01699585 0.01486904 0.01280044 0.01280044 0.01280044 0.01280044\n",
      " 0.01280044]\n",
      "20th topic:\n",
      "agent's allocated action affidavit affirmative acceleration automatically \n",
      " [0.00062383 0.00062383 0.00062383 0.00062383 0.00062383 0.00062383\n",
      " 0.00062383]\n",
      "21th topic:\n",
      "wholly borrower syndication (upon guarantor. voluntary owned \n",
      " [0.01337382 0.01059989 0.00870715 0.00855103 0.00855103 0.00855103\n",
      " 0.00792816]\n",
      "22th topic:\n",
      "agent's allocated action affidavit affirmative acceleration automatically \n",
      " [0.00062383 0.00062383 0.00062383 0.00062383 0.00062383 0.00062383\n",
      " 0.00062383]\n",
      "23th topic:\n",
      "agent's allocated action affidavit affirmative acceleration automatically \n",
      " [0.00062383 0.00062383 0.00062383 0.00062383 0.00062383 0.00062383\n",
      " 0.00062383]\n",
      "24th topic:\n",
      "agent's allocated action affidavit affirmative acceleration automatically \n",
      " [0.00062383 0.00062383 0.00062383 0.00062383 0.00062383 0.00062383\n",
      " 0.00062383]\n",
      "25th topic:\n",
      "clauses investments miscellaneous unit. $5,000,000 items subsidiaries \n",
      " [0.02099501 0.01944976 0.01673309 0.01673309 0.01673309 0.01424003\n",
      " 0.01316799]\n",
      "26th topic:\n",
      "agent's allocated action affidavit affirmative acceleration automatically \n",
      " [0.00062383 0.00062383 0.00062383 0.00062383 0.00062383 0.00062383\n",
      " 0.00062383]\n",
      "27th topic:\n",
      "engineering report april 1 engineers october attributable \n",
      " [0.01183078 0.00958916 0.00953914 0.00953914 0.0072475  0.0072475\n",
      " 0.0072475 ]\n",
      "28th topic:\n",
      "agent's allocated action affidavit affirmative acceleration automatically \n",
      " [0.00062383 0.00062383 0.00062383 0.00062383 0.00062383 0.00062383\n",
      " 0.00062383]\n",
      "29th topic:\n",
      "associations, partnerships relationships investments partnership state joint \n",
      " [0.01197929 0.00957381 0.00957381 0.00843418 0.0081667  0.0081667\n",
      " 0.00639394]\n",
      "30th topic:\n",
      "agent's allocated action affidavit affirmative acceleration automatically \n",
      " [0.00062383 0.00062383 0.00062383 0.00062383 0.00062383 0.00062383\n",
      " 0.00062383]\n",
      "31th topic:\n",
      "agent's allocated action affidavit affirmative acceleration automatically \n",
      " [0.00062383 0.00062383 0.00062383 0.00062383 0.00062383 0.00062383\n",
      " 0.00062383]\n",
      "32th topic:\n",
      "base borrowing dispositions property sales determination equivalent \n",
      " [0.00871697 0.00857422 0.0051219  0.00489212 0.00481537 0.00419409\n",
      " 0.00398199]\n",
      "33th topic:\n",
      "agent's allocated action affidavit affirmative acceleration automatically \n",
      " [0.00062383 0.00062383 0.00062383 0.00062383 0.00062383 0.00062383\n",
      " 0.00062383]\n",
      "34th topic:\n",
      "agent's allocated action affidavit affirmative acceleration automatically \n",
      " [0.00062383 0.00062383 0.00062383 0.00062383 0.00062383 0.00062383\n",
      " 0.00062383]\n",
      "35th topic:\n",
      "agent's allocated action affidavit affirmative acceleration automatically \n",
      " [0.00062383 0.00062383 0.00062383 0.00062383 0.00062383 0.00062383\n",
      " 0.00062383]\n",
      "36th topic:\n",
      "agent's allocated action affidavit affirmative acceleration automatically \n",
      " [0.00062383 0.00062383 0.00062383 0.00062383 0.00062383 0.00062383\n",
      " 0.00062383]\n",
      "37th topic:\n",
      "agent's allocated action affidavit affirmative acceleration automatically \n",
      " [0.00062383 0.00062383 0.00062383 0.00062383 0.00062383 0.00062383\n",
      " 0.00062383]\n",
      "38th topic:\n",
      "investments supply acquisitions. gaseous hydrocarbons venture, therefor, \n",
      " [0.01199983 0.00877423 0.00877423 0.00877423 0.00877423 0.00877423\n",
      " 0.00877423]\n",
      "39th topic:\n",
      "agent's allocated action affidavit affirmative acceleration automatically \n",
      " [0.00062383 0.00062383 0.00062383 0.00062383 0.00062383 0.00062383\n",
      " 0.00062383]\n",
      "40th topic:\n",
      "lenders interest highest lawful amount current agreement \n",
      " [0.00841384 0.00806156 0.00749813 0.00749813 0.00728855 0.00630457\n",
      " 0.00530271]\n",
      "41th topic:\n",
      "agent's allocated action affidavit affirmative acceleration automatically \n",
      " [0.00062383 0.00062383 0.00062383 0.00062383 0.00062383 0.00062383\n",
      " 0.00062383]\n",
      "42th topic:\n",
      "agent's allocated action affidavit affirmative acceleration automatically \n",
      " [0.00062383 0.00062383 0.00062383 0.00062383 0.00062383 0.00062383\n",
      " 0.00062383]\n",
      "43th topic:\n",
      "liens similar aside books. set adequate contested \n",
      " [0.01257014 0.01158674 0.00786145 0.00786145 0.00671674 0.00671674\n",
      " 0.00671674]\n",
      "44th topic:\n",
      "agent's allocated action affidavit affirmative acceleration automatically \n",
      " [0.00062383 0.00062383 0.00062383 0.00062383 0.00062383 0.00062383\n",
      " 0.00062383]\n",
      "45th topic:\n",
      "agent's allocated action affidavit affirmative acceleration automatically \n",
      " [0.00062383 0.00062383 0.00062383 0.00062383 0.00062383 0.00062383\n",
      " 0.00062383]\n",
      "46th topic:\n",
      "indebtedness self insured retentions policies. described reimbursement \n",
      " [0.02131279 0.01368766 0.01368766 0.01368766 0.01368766 0.01326055\n",
      " 0.0119094 ]\n",
      "47th topic:\n",
      "party entity (provided borrower surviving continuing wholly \n",
      " [0.01337425 0.01294525 0.01294524 0.01039072 0.01032134 0.01032134\n",
      " 0.01032134]\n",
      "48th topic:\n",
      "long caused corporation. sell result, assets. borrower \n",
      " [0.02085646 0.01334626 0.01334626 0.01334626 0.01334626 0.01334626\n",
      " 0.01118643]\n",
      "49th topic:\n",
      "agent's allocated action affidavit affirmative acceleration automatically \n",
      " [0.00062383 0.00062383 0.00062383 0.00062383 0.00062383 0.00062383\n",
      " 0.00062383]\n",
      "50th topic:\n",
      "agent's allocated action affidavit affirmative acceleration automatically \n",
      " [0.00062383 0.00062383 0.00062383 0.00062383 0.00062383 0.00062383\n",
      " 0.00062383]\n",
      "51th topic:\n",
      "agent's allocated action affidavit affirmative acceleration automatically \n",
      " [0.00062383 0.00062383 0.00062383 0.00062383 0.00062383 0.00062383\n",
      " 0.00062383]\n",
      "52th topic:\n",
      "changes. consolidation parties) wind method merger, present \n",
      " [0.00889489 0.00889489 0.00889489 0.00889489 0.00889489 0.00889489\n",
      " 0.00889489]\n",
      "53th topic:\n",
      "agent's allocated action affidavit affirmative acceleration automatically \n",
      " [0.00062383 0.00062383 0.00062383 0.00062383 0.00062383 0.00062383\n",
      " 0.00062383]\n",
      "54th topic:\n",
      "agent's allocated action affidavit affirmative acceleration automatically \n",
      " [0.00062383 0.00062383 0.00062383 0.00062383 0.00062383 0.00062383\n",
      " 0.00062383]\n",
      "55th topic:\n",
      "agent's allocated action affidavit affirmative acceleration automatically \n",
      " [0.00062383 0.00062383 0.00062383 0.00062383 0.00062383 0.00062383\n",
      " 0.00062383]\n",
      "56th topic:\n",
      "agent's allocated action affidavit affirmative acceleration automatically \n",
      " [0.00062383 0.00062383 0.00062383 0.00062383 0.00062383 0.00062383\n",
      " 0.00062383]\n",
      "57th topic:\n",
      "agent's allocated action affidavit affirmative acceleration automatically \n",
      " [0.00062383 0.00062383 0.00062383 0.00062383 0.00062383 0.00062383\n",
      " 0.00062383]\n",
      "58th topic:\n",
      "agent's allocated action affidavit affirmative acceleration automatically \n",
      " [0.00062383 0.00062383 0.00062383 0.00062383 0.00062383 0.00062383\n",
      " 0.00062383]\n",
      "59th topic:\n",
      "liens document. collateral granted burdening 7.2(v). $1,000,000 \n",
      " [0.01679343 0.01308925 0.01213419 0.0067576  0.0067576  0.0067576\n",
      " 0.0067576 ]\n"
     ]
    }
   ],
   "source": [
    "for i in range(num_topics):\n",
    "    print(f'{i}th topic:')\n",
    "    terms_all = lda.get_topic_terms(topicid=i)\n",
    "    term_distribution = np.array(terms_all[:7])\n",
    "    term_id = term_distribution[:, 0].astype(np.int)\n",
    "    for t in term_id:\n",
    "        print(dictionary.id2token[t], end=' ')\n",
    "    print('\\n', term_distribution[:, 1])"
   ]
  },
  {
   "cell_type": "code",
   "execution_count": 13,
   "metadata": {
    "ExecuteTime": {
     "end_time": "2019-01-20T12:33:55.008051Z",
     "start_time": "2019-01-20T12:33:54.948927Z"
    },
    "scrolled": false
   },
   "outputs": [
    {
     "name": "stdout",
     "output_type": "stream",
     "text": [
      "0th doc belongs to topic 11 with probability 0.8210671544075012\n",
      "1th doc belongs to topic 47 with probability 0.8887367248535156\n",
      "2th doc belongs to topic 17 with probability 0.9343332052230835\n",
      "3th doc belongs to topic 47 with probability 0.8657149076461792\n",
      "4th doc belongs to topic 53 with probability 0.9157668352127075\n",
      "5th doc belongs to topic 48 with probability 0.8680201768875122\n",
      "6th doc belongs to topic 22 with probability 0.8668609261512756\n",
      "7th doc belongs to topic 49 with probability 0.8856468200683594\n",
      "8th doc belongs to topic 16 with probability 0.6818264722824097\n",
      "9th doc belongs to topic 39 with probability 0.9203526377677917\n",
      "10th doc belongs to topic 30 with probability 0.8657054901123047\n",
      "11th doc belongs to topic 26 with probability 0.8632491827011108\n",
      "12th doc belongs to topic 6 with probability 0.8881493806838989\n",
      "13th doc belongs to topic 44 with probability 0.9080466032028198\n",
      "14th doc belongs to topic 60 with probability 0.8358696699142456\n",
      "15th doc belongs to topic 2 with probability 0.7762235403060913\n",
      "16th doc belongs to topic 14 with probability 0.8367639183998108\n",
      "17th doc belongs to topic 17 with probability 0.8764618635177612\n",
      "18th doc belongs to topic 10 with probability 0.9182119965553284\n",
      "19th doc belongs to topic 4 with probability 0.7808662056922913\n",
      "20th doc belongs to topic 7 with probability 0.7646449208259583\n",
      "21th doc belongs to topic 7 with probability 0.7932859063148499\n",
      "22th doc belongs to topic 13 with probability 0.5521032810211182\n",
      "23th doc belongs to topic 20 with probability 0.8874984383583069\n",
      "24th doc belongs to topic 2 with probability 0.914672315120697\n",
      "25th doc belongs to topic 1 with probability 0.798364520072937\n",
      "26th doc belongs to topic 4 with probability 0.8773765563964844\n",
      "27th doc belongs to topic 8 with probability 0.8061394095420837\n"
     ]
    }
   ],
   "source": [
    "doc_num = len(texts)\n",
    "doc_topics = lda.get_document_topics(corpus_tfidf)\n",
    "\n",
    "for i in range(doc_num):\n",
    "    topic = np.array(doc_topics[i])\n",
    "    topic_distribution = np.array(topic[:, 1])\n",
    "    doc_topic_prob = list(topic_distribution)\n",
    "    \n",
    "    counter = 0\n",
    "    prob_id = 0\n",
    "    prob = 0\n",
    "    for p in doc_topic_prob:\n",
    "        counter += 1\n",
    "        if prob >= p:\n",
    "            continue\n",
    "        else:\n",
    "            prob = p\n",
    "            prob_id = counter\n",
    "    print(f'{i}th doc belongs to topic {prob_id} with probability {prob}')\n",
    "    \n",
    "#     print(f'{i}th doc probability distribustion is:')\n",
    "#     print(list(topic_distribution), '\\n')"
   ]
  },
  {
   "cell_type": "code",
   "execution_count": null,
   "metadata": {},
   "outputs": [],
   "source": []
  },
  {
   "cell_type": "code",
   "execution_count": null,
   "metadata": {},
   "outputs": [],
   "source": []
  }
 ],
 "metadata": {
  "kernelspec": {
   "display_name": "py36",
   "language": "python",
   "name": "py36"
  },
  "language_info": {
   "codemirror_mode": {
    "name": "ipython",
    "version": 3
   },
   "file_extension": ".py",
   "mimetype": "text/x-python",
   "name": "python",
   "nbconvert_exporter": "python",
   "pygments_lexer": "ipython3",
   "version": "3.6.3"
  },
  "latex_envs": {
   "LaTeX_envs_menu_present": true,
   "autoclose": false,
   "autocomplete": true,
   "bibliofile": "biblio.bib",
   "cite_by": "apalike",
   "current_citInitial": 1,
   "eqLabelWithNumbers": true,
   "eqNumInitial": 1,
   "hotkeys": {
    "equation": "Ctrl-E",
    "itemize": "Ctrl-I"
   },
   "labels_anchors": false,
   "latex_user_defs": false,
   "report_style_numbering": false,
   "user_envs_cfg": false
  },
  "toc": {
   "base_numbering": 1,
   "nav_menu": {},
   "number_sections": true,
   "sideBar": true,
   "skip_h1_title": false,
   "title_cell": "Table of Contents",
   "title_sidebar": "Contents",
   "toc_cell": false,
   "toc_position": {
    "height": "calc(100% - 180px)",
    "left": "10px",
    "top": "150px",
    "width": "165px"
   },
   "toc_section_display": true,
   "toc_window_display": true
  },
  "varInspector": {
   "cols": {
    "lenName": 16,
    "lenType": 16,
    "lenVar": 40
   },
   "kernels_config": {
    "python": {
     "delete_cmd_postfix": "",
     "delete_cmd_prefix": "del ",
     "library": "var_list.py",
     "varRefreshCmd": "print(var_dic_list())"
    },
    "r": {
     "delete_cmd_postfix": ") ",
     "delete_cmd_prefix": "rm(",
     "library": "var_list.r",
     "varRefreshCmd": "cat(var_dic_list()) "
    }
   },
   "oldHeight": 122,
   "position": {
    "height": "40px",
    "left": "1410px",
    "right": "20px",
    "top": "120px",
    "width": "250px"
   },
   "types_to_exclude": [
    "module",
    "function",
    "builtin_function_or_method",
    "instance",
    "_Feature"
   ],
   "varInspector_section_display": "none",
   "window_display": false
  }
 },
 "nbformat": 4,
 "nbformat_minor": 2
}
